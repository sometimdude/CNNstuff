{
  "nbformat": 4,
  "nbformat_minor": 0,
  "metadata": {
    "colab": {
      "provenance": [],
      "include_colab_link": true
    },
    "kernelspec": {
      "name": "python3",
      "display_name": "Python 3"
    },
    "language_info": {
      "name": "python"
    }
  },
  "cells": [
    {
      "cell_type": "markdown",
      "metadata": {
        "id": "view-in-github",
        "colab_type": "text"
      },
      "source": [
        "<a href=\"https://colab.research.google.com/github/sometimdude/CNNstuff/blob/main/Main_CNN_Advanced_Version.ipynb\" target=\"_parent\"><img src=\"https://colab.research.google.com/assets/colab-badge.svg\" alt=\"Open In Colab\"/></a>"
      ]
    },
    {
      "cell_type": "code",
      "source": [
        "pip install  wandb"
      ],
      "metadata": {
        "colab": {
          "base_uri": "https://localhost:8080/"
        },
        "id": "omr-qPJN3bgo",
        "outputId": "b5ec8a4e-189e-4b61-ef55-a43496d56454"
      },
      "execution_count": null,
      "outputs": [
        {
          "output_type": "stream",
          "name": "stdout",
          "text": [
            "Collecting wandb\n",
            "  Downloading wandb-0.16.1-py3-none-any.whl (2.1 MB)\n",
            "\u001b[2K     \u001b[90m━━━━━━━━━━━━━━━━━━━━━━━━━━━━━━━━━━━━━━━━\u001b[0m \u001b[32m2.1/2.1 MB\u001b[0m \u001b[31m6.8 MB/s\u001b[0m eta \u001b[36m0:00:00\u001b[0m\n",
            "\u001b[?25hRequirement already satisfied: Click!=8.0.0,>=7.1 in /usr/local/lib/python3.10/dist-packages (from wandb) (8.1.7)\n",
            "Collecting GitPython!=3.1.29,>=1.0.0 (from wandb)\n",
            "  Downloading GitPython-3.1.40-py3-none-any.whl (190 kB)\n",
            "\u001b[2K     \u001b[90m━━━━━━━━━━━━━━━━━━━━━━━━━━━━━━━━━━━━━━━━\u001b[0m \u001b[32m190.6/190.6 kB\u001b[0m \u001b[31m2.5 MB/s\u001b[0m eta \u001b[36m0:00:00\u001b[0m\n",
            "\u001b[?25hRequirement already satisfied: requests<3,>=2.0.0 in /usr/local/lib/python3.10/dist-packages (from wandb) (2.31.0)\n",
            "Requirement already satisfied: psutil>=5.0.0 in /usr/local/lib/python3.10/dist-packages (from wandb) (5.9.5)\n",
            "Collecting sentry-sdk>=1.0.0 (from wandb)\n",
            "  Downloading sentry_sdk-1.39.1-py2.py3-none-any.whl (254 kB)\n",
            "\u001b[2K     \u001b[90m━━━━━━━━━━━━━━━━━━━━━━━━━━━━━━━━━━━━━━━━\u001b[0m \u001b[32m254.1/254.1 kB\u001b[0m \u001b[31m7.9 MB/s\u001b[0m eta \u001b[36m0:00:00\u001b[0m\n",
            "\u001b[?25hCollecting docker-pycreds>=0.4.0 (from wandb)\n",
            "  Downloading docker_pycreds-0.4.0-py2.py3-none-any.whl (9.0 kB)\n",
            "Requirement already satisfied: PyYAML in /usr/local/lib/python3.10/dist-packages (from wandb) (6.0.1)\n",
            "Collecting setproctitle (from wandb)\n",
            "  Downloading setproctitle-1.3.3-cp310-cp310-manylinux_2_5_x86_64.manylinux1_x86_64.manylinux_2_17_x86_64.manylinux2014_x86_64.whl (30 kB)\n",
            "Requirement already satisfied: setuptools in /usr/local/lib/python3.10/dist-packages (from wandb) (67.7.2)\n",
            "Requirement already satisfied: appdirs>=1.4.3 in /usr/local/lib/python3.10/dist-packages (from wandb) (1.4.4)\n",
            "Requirement already satisfied: protobuf!=4.21.0,<5,>=3.19.0 in /usr/local/lib/python3.10/dist-packages (from wandb) (3.20.3)\n",
            "Requirement already satisfied: six>=1.4.0 in /usr/local/lib/python3.10/dist-packages (from docker-pycreds>=0.4.0->wandb) (1.16.0)\n",
            "Collecting gitdb<5,>=4.0.1 (from GitPython!=3.1.29,>=1.0.0->wandb)\n",
            "  Downloading gitdb-4.0.11-py3-none-any.whl (62 kB)\n",
            "\u001b[2K     \u001b[90m━━━━━━━━━━━━━━━━━━━━━━━━━━━━━━━━━━━━━━━━\u001b[0m \u001b[32m62.7/62.7 kB\u001b[0m \u001b[31m3.7 MB/s\u001b[0m eta \u001b[36m0:00:00\u001b[0m\n",
            "\u001b[?25hRequirement already satisfied: charset-normalizer<4,>=2 in /usr/local/lib/python3.10/dist-packages (from requests<3,>=2.0.0->wandb) (3.3.2)\n",
            "Requirement already satisfied: idna<4,>=2.5 in /usr/local/lib/python3.10/dist-packages (from requests<3,>=2.0.0->wandb) (3.6)\n",
            "Requirement already satisfied: urllib3<3,>=1.21.1 in /usr/local/lib/python3.10/dist-packages (from requests<3,>=2.0.0->wandb) (2.0.7)\n",
            "Requirement already satisfied: certifi>=2017.4.17 in /usr/local/lib/python3.10/dist-packages (from requests<3,>=2.0.0->wandb) (2023.11.17)\n",
            "Collecting smmap<6,>=3.0.1 (from gitdb<5,>=4.0.1->GitPython!=3.1.29,>=1.0.0->wandb)\n",
            "  Downloading smmap-5.0.1-py3-none-any.whl (24 kB)\n",
            "Installing collected packages: smmap, setproctitle, sentry-sdk, docker-pycreds, gitdb, GitPython, wandb\n",
            "Successfully installed GitPython-3.1.40 docker-pycreds-0.4.0 gitdb-4.0.11 sentry-sdk-1.39.1 setproctitle-1.3.3 smmap-5.0.1 wandb-0.16.1\n"
          ]
        }
      ]
    },
    {
      "cell_type": "code",
      "execution_count": null,
      "metadata": {
        "id": "cTdlY85nX9bl",
        "colab": {
          "base_uri": "https://localhost:8080/"
        },
        "outputId": "ed00f360-9df9-428e-d8fa-203187e33d83"
      },
      "outputs": [
        {
          "output_type": "stream",
          "name": "stdout",
          "text": [
            "Mounted at /content/drive\n"
          ]
        }
      ],
      "source": [
        "import os\n",
        "import numpy as np\n",
        "import librosa\n",
        "from tqdm import tqdm\n",
        "from sklearn.model_selection import train_test_split\n",
        "from keras.utils import to_categorical\n",
        "from google.colab import drive\n",
        "\n",
        "\n",
        "# Mount Google Drive\n",
        "drive.mount('/content/drive')"
      ]
    },
    {
      "cell_type": "code",
      "source": [
        "def get_labels(data_path, session_participants):\n",
        "    labels = []\n",
        "    for session, participants in session_participants.items():\n",
        "        for participant in participants:\n",
        "            participant_folder = os.path.join(data_path, participant)\n",
        "            participant_file = os.path.join(participant_folder, f\"{participant}.npy\")\n",
        "            if os.path.isdir(participant_folder) and os.path.isfile(participant_file):\n",
        "                labels.append(participant)\n",
        "            else:\n",
        "                print(f\"Folder or file not found: {participant_folder} or {participant_file}\")\n",
        "    # Remove duplicates and sort labels\n",
        "    labels = sorted(set(labels))\n",
        "    label_indices = np.arange(0, len(labels))\n",
        "    one_hot_encoded = to_categorical(label_indices)\n",
        "    return labels, label_indices, one_hot_encoded\n",
        "\n",
        "# Example usage\n",
        "DATA_PATH = '/content/drive/My Drive/ML Audio'\n",
        "session_participants = {\n",
        "   'S03': ['P09', 'P10', 'P11', 'P12'],\n",
        "    'S04': ['P09', 'P10', 'P11', 'P12'],\n",
        "    'S05': ['P13', 'P14', 'P15', 'P16'],\n",
        "    'S06': ['P13', 'P14', 'P15', 'P16'],\n",
        "    'S07': ['P17', 'P18', 'P19', 'P20'],\n",
        "    'S17': ['P17', 'P18', 'P19', 'P20'],\n",
        "    'S08': ['P21', 'P22', 'P23', 'P24'],\n",
        "    'S16': ['P21', 'P22', 'P23', 'P24'],\n",
        "    'S12': ['P33', 'P34', 'P35', 'P36'],\n",
        "    'S13': ['P33', 'P34', 'P35', 'P36'],\n",
        "    'S19': ['P49', 'P50', 'P51', 'P52'],\n",
        "    'S20': ['P49', 'P50', 'P51', 'P52'],\n",
        "    'S18': ['P41', 'P42', 'P43', 'P44'],\n",
        "    'S22': ['P41', 'P42', 'P43', 'P44'],\n",
        "    'S23': ['P53', 'P54', 'P55', 'P56'],\n",
        "    'S24': ['P53', 'P54', 'P55', 'P56']\n",
        "}\n",
        "train_labels, train_label_indices, train_label_one_hot = get_labels(DATA_PATH, session_participants)"
      ],
      "metadata": {
        "id": "x95_HiRp22eV"
      },
      "execution_count": null,
      "outputs": []
    },
    {
      "cell_type": "code",
      "source": [
        "import librosa\n",
        "import numpy as np\n",
        "import os\n",
        "\n",
        "def extract_mfcc(file_path, max_pad_length=400):\n",
        "    audio, sr = librosa.load(file_path, mono=True)\n",
        "    mfcc = librosa.feature.mfcc(y=audio, sr=sr, n_mfcc=13)\n",
        "\n",
        "    # Check if the MFCC feature array is longer than max_pad_length\n",
        "    if mfcc.shape[1] > max_pad_length:\n",
        "        # If so, truncate the MFCC array\n",
        "        mfcc = mfcc[:, :max_pad_length]\n",
        "    else:\n",
        "        # Otherwise, pad the MFCC array\n",
        "        pad_width = max_pad_length - mfcc.shape[1]\n",
        "        mfcc = np.pad(mfcc, pad_width=((0, 0), (0, pad_width)), mode='constant')\n",
        "\n",
        "    return mfcc\n",
        "\n",
        "# Base directory containing label subfolders\n",
        "base_directory = '/content/drive/My Drive/ML Audio'\n",
        "\n",
        "# Iterate through each subfolder (label) in the base directory\n",
        "for label_folder in os.listdir(base_directory):\n",
        "    label_folder_path = os.path.join(base_directory, label_folder)\n",
        "\n",
        "    # Check if it's a directory\n",
        "    if os.path.isdir(label_folder_path):\n",
        "        # Process each audio file in the label subfolder\n",
        "        for file_name in os.listdir(label_folder_path):\n",
        "            if file_name.endswith('.wav'):\n",
        "                file_path = os.path.join(label_folder_path, file_name)\n",
        "                mfcc_features = extract_mfcc(file_path)\n",
        "                npy_file_name = file_name.replace('.wav', '.npy')\n",
        "                npy_file_path = os.path.join(label_folder_path, npy_file_name)\n",
        "                np.save(npy_file_path, mfcc_features)"
      ],
      "metadata": {
        "id": "Hv22JvdfQydO"
      },
      "execution_count": null,
      "outputs": []
    },
    {
      "cell_type": "code",
      "source": [
        "import os\n",
        "import librosa\n",
        "import numpy as np\n",
        "from tqdm import tqdm\n",
        "\n",
        "def wav2mfcc_multi_channel(file_path, n_mfcc=20, max_len=11):\n",
        "    wave, sr = librosa.load(file_path, mono=False, sr=44100)\n",
        "    mfccs = []\n",
        "\n",
        "    for channel in range(wave.shape[0]):\n",
        "        channel_wave = wave[channel, :]\n",
        "        mfcc = librosa.feature.mfcc(y=channel_wave, sr=sr, n_mfcc=n_mfcc)\n",
        "\n",
        "        if max_len > mfcc.shape[1]:\n",
        "            pad_width = max_len - mfcc.shape[1]\n",
        "            mfcc = np.pad(mfcc, pad_width=((0, 0), (0, pad_width)), mode='constant')\n",
        "        else:\n",
        "            mfcc = mfcc[:, :max_len]\n",
        "\n",
        "        mfccs.append(mfcc)\n",
        "\n",
        "    return np.array(mfccs)\n",
        "\n",
        "LABEL_DATA_PATH = '/content/drive/My Drive/ML Audio'\n",
        "labels = ['P09', 'P10', 'P11', 'P12', 'P13', 'P14', 'P15', 'P16', 'P17', 'P18', 'P19', 'P20', 'P21', 'P22', 'P23', 'P24', 'P33', 'P34', 'P35', 'P36', 'P41', 'P42', 'P43', 'P44', 'P49', 'P50', 'P51', 'P52', 'P53', 'P54', 'P55', 'P56']\n",
        "\n",
        "def save_data_to_array(path=LABEL_DATA_PATH, labels=labels, max_len=11, n_mfcc=20):\n",
        "    for label in labels:\n",
        "        mfcc_vectors = []\n",
        "        label_folder_path = os.path.join(path, label)\n",
        "        if os.path.isdir(label_folder_path):\n",
        "            wavfiles = [os.path.join(label_folder_path, wavfile) for wavfile in os.listdir(label_folder_path) if wavfile.endswith('.wav')]\n",
        "            for wavfile in tqdm(wavfiles, \"Saving vectors of label - '{}'\".format(label)):\n",
        "                mfcc = wav2mfcc_multi_channel(wavfile, max_len=max_len, n_mfcc=n_mfcc)\n",
        "                mfcc_vectors.append(mfcc)\n",
        "            np.save(os.path.join(label_folder_path, label + '.npy'), mfcc_vectors)  # Save MFCCs with correct extension\n",
        "\n",
        "# Call the function to save data\n",
        "save_data_to_array()"
      ],
      "metadata": {
        "id": "foMy4qbH3J70",
        "colab": {
          "base_uri": "https://localhost:8080/"
        },
        "outputId": "c6d2e4ea-4595-446d-d60f-d66f923922cf"
      },
      "execution_count": null,
      "outputs": [
        {
          "output_type": "stream",
          "name": "stderr",
          "text": [
            "Saving vectors of label - 'P09': 100%|██████████| 1/1 [00:00<00:00,  5.25it/s]\n",
            "Saving vectors of label - 'P10': 100%|██████████| 1/1 [00:00<00:00,  5.52it/s]\n",
            "Saving vectors of label - 'P11': 100%|██████████| 1/1 [00:00<00:00,  5.44it/s]\n",
            "Saving vectors of label - 'P12': 100%|██████████| 1/1 [00:00<00:00,  4.85it/s]\n",
            "Saving vectors of label - 'P13': 100%|██████████| 1/1 [00:00<00:00,  7.14it/s]\n",
            "Saving vectors of label - 'P14': 100%|██████████| 1/1 [00:00<00:00,  5.84it/s]\n",
            "Saving vectors of label - 'P15': 100%|██████████| 1/1 [00:00<00:00,  7.57it/s]\n",
            "Saving vectors of label - 'P16': 100%|██████████| 1/1 [00:00<00:00,  7.36it/s]\n",
            "Saving vectors of label - 'P17': 100%|██████████| 1/1 [00:00<00:00,  7.05it/s]\n",
            "Saving vectors of label - 'P18': 100%|██████████| 1/1 [00:00<00:00,  7.71it/s]\n",
            "Saving vectors of label - 'P19': 100%|██████████| 1/1 [00:00<00:00,  6.90it/s]\n",
            "Saving vectors of label - 'P20': 100%|██████████| 1/1 [00:00<00:00,  6.70it/s]\n",
            "Saving vectors of label - 'P21': 100%|██████████| 1/1 [00:00<00:00,  5.61it/s]\n",
            "Saving vectors of label - 'P22': 100%|██████████| 1/1 [00:00<00:00,  7.63it/s]\n",
            "Saving vectors of label - 'P23': 100%|██████████| 1/1 [00:00<00:00,  7.07it/s]\n",
            "Saving vectors of label - 'P24': 100%|██████████| 1/1 [00:00<00:00,  5.89it/s]\n",
            "Saving vectors of label - 'P33': 100%|██████████| 1/1 [00:00<00:00,  7.03it/s]\n",
            "Saving vectors of label - 'P34': 100%|██████████| 1/1 [00:00<00:00,  7.39it/s]\n",
            "Saving vectors of label - 'P35': 100%|██████████| 1/1 [00:00<00:00,  6.90it/s]\n",
            "Saving vectors of label - 'P36': 100%|██████████| 1/1 [00:00<00:00,  4.74it/s]\n",
            "Saving vectors of label - 'P41': 100%|██████████| 1/1 [00:00<00:00,  8.21it/s]\n",
            "Saving vectors of label - 'P42': 100%|██████████| 1/1 [00:00<00:00,  6.36it/s]\n",
            "Saving vectors of label - 'P43': 100%|██████████| 1/1 [00:00<00:00,  8.46it/s]\n",
            "Saving vectors of label - 'P44': 100%|██████████| 1/1 [00:00<00:00,  8.65it/s]\n",
            "Saving vectors of label - 'P49': 100%|██████████| 1/1 [00:00<00:00,  3.03it/s]\n",
            "Saving vectors of label - 'P50': 100%|██████████| 1/1 [00:00<00:00,  5.21it/s]\n",
            "Saving vectors of label - 'P51': 100%|██████████| 1/1 [00:00<00:00,  4.81it/s]\n",
            "Saving vectors of label - 'P52': 100%|██████████| 1/1 [00:00<00:00,  5.86it/s]\n",
            "Saving vectors of label - 'P53': 100%|██████████| 1/1 [00:00<00:00,  6.94it/s]\n",
            "Saving vectors of label - 'P54': 100%|██████████| 1/1 [00:00<00:00,  5.03it/s]\n",
            "Saving vectors of label - 'P55': 100%|██████████| 1/1 [00:00<00:00,  8.07it/s]\n",
            "Saving vectors of label - 'P56': 100%|██████████| 1/1 [00:00<00:00,  6.17it/s]\n"
          ]
        }
      ]
    },
    {
      "cell_type": "code",
      "source": [
        "import os\n",
        "import numpy as np\n",
        "from sklearn.model_selection import train_test_split\n",
        "from keras.utils import to_categorical\n",
        "\n",
        "def load_dataset(base_path, session_participants, dataset_type='train', test_size=0.2, random_state=42):\n",
        "    print(f\"Loading dataset from {base_path}\")\n",
        "\n",
        "    X = []\n",
        "    y = []\n",
        "    all_labels = []\n",
        "\n",
        "    # Loop through each session and its participants\n",
        "    for session, participants in session_participants.items():\n",
        "        for participant in participants:\n",
        "            label = participant\n",
        "            if label not in all_labels:\n",
        "                all_labels.append(label)\n",
        "\n",
        "            mfcc_file = os.path.join(base_path, label, f\"{label}.npy\")\n",
        "            print(f\"Checking file: {mfcc_file}\")\n",
        "            if os.path.isfile(mfcc_file):\n",
        "                mfcc_vectors = np.load(mfcc_file)\n",
        "                if mfcc_vectors.size == 0:\n",
        "                    print(f\"The array for {label} is empty. Skipping.\")\n",
        "                    continue\n",
        "                X.extend(mfcc_vectors)\n",
        "                y.extend([label] * len(mfcc_vectors))\n",
        "            else:\n",
        "                print(f\"No MFCC file found for label: {label}\")\n",
        "\n",
        "    if len(X) == 0 or len(y) == 0:\n",
        "        print(\"No data loaded. Check the data files and loading process.\")\n",
        "        return None, None, None, None\n",
        "\n",
        "    # Convert labels to one-hot encodings\n",
        "    label_indices = {label: idx for idx, label in enumerate(all_labels)}\n",
        "    y = [label_indices[label] for label in y]\n",
        "    y = to_categorical(y, num_classes=len(all_labels))\n",
        "\n",
        "    X = np.array(X, dtype=object)\n",
        "    y = np.array(y)\n",
        "\n",
        "    X_train, X_test, y_train, y_test = train_test_split(X, y, test_size=test_size, random_state=random_state)\n",
        "\n",
        "    print(f\"X_train is None: {X_train is None}\")\n",
        "    print(f\"X_test is None: {X_test is None}\")\n",
        "    print(f\"y_train is None: {y_train is None}\")\n",
        "    print(f\"y_test is None: {y_test is None}\")\n",
        " # Print the shapes of X_train and X_test\n",
        "    print(\"X_train shape:\", X_train.shape)\n",
        "    print(\"X_test shape:\", X_test.shape)\n",
        "    return X_train, X_test, y_train, y_test\n",
        "\n",
        "# Usage example\n",
        "train_data_path = '/content/drive/My Drive/ML Audio'\n",
        "X_train, X_test, y_train, y_test = load_dataset(train_data_path, session_participants, dataset_type='train')"
      ],
      "metadata": {
        "id": "3NPIIYeU3LBw",
        "colab": {
          "base_uri": "https://localhost:8080/"
        },
        "outputId": "75d4ed46-6427-4e91-98b9-e14deeeb5453"
      },
      "execution_count": null,
      "outputs": [
        {
          "output_type": "stream",
          "name": "stdout",
          "text": [
            "Loading dataset from /content/drive/My Drive/ML Audio\n",
            "Checking file: /content/drive/My Drive/ML Audio/P09/P09.npy\n",
            "Checking file: /content/drive/My Drive/ML Audio/P10/P10.npy\n",
            "Checking file: /content/drive/My Drive/ML Audio/P11/P11.npy\n",
            "Checking file: /content/drive/My Drive/ML Audio/P12/P12.npy\n",
            "Checking file: /content/drive/My Drive/ML Audio/P09/P09.npy\n",
            "Checking file: /content/drive/My Drive/ML Audio/P10/P10.npy\n",
            "Checking file: /content/drive/My Drive/ML Audio/P11/P11.npy\n",
            "Checking file: /content/drive/My Drive/ML Audio/P12/P12.npy\n",
            "Checking file: /content/drive/My Drive/ML Audio/P13/P13.npy\n",
            "Checking file: /content/drive/My Drive/ML Audio/P14/P14.npy\n",
            "Checking file: /content/drive/My Drive/ML Audio/P15/P15.npy\n",
            "Checking file: /content/drive/My Drive/ML Audio/P16/P16.npy\n",
            "Checking file: /content/drive/My Drive/ML Audio/P13/P13.npy\n",
            "Checking file: /content/drive/My Drive/ML Audio/P14/P14.npy\n",
            "Checking file: /content/drive/My Drive/ML Audio/P15/P15.npy\n",
            "Checking file: /content/drive/My Drive/ML Audio/P16/P16.npy\n",
            "Checking file: /content/drive/My Drive/ML Audio/P17/P17.npy\n",
            "Checking file: /content/drive/My Drive/ML Audio/P18/P18.npy\n",
            "Checking file: /content/drive/My Drive/ML Audio/P19/P19.npy\n",
            "Checking file: /content/drive/My Drive/ML Audio/P20/P20.npy\n",
            "Checking file: /content/drive/My Drive/ML Audio/P17/P17.npy\n",
            "Checking file: /content/drive/My Drive/ML Audio/P18/P18.npy\n",
            "Checking file: /content/drive/My Drive/ML Audio/P19/P19.npy\n",
            "Checking file: /content/drive/My Drive/ML Audio/P20/P20.npy\n",
            "Checking file: /content/drive/My Drive/ML Audio/P21/P21.npy\n",
            "Checking file: /content/drive/My Drive/ML Audio/P22/P22.npy\n",
            "Checking file: /content/drive/My Drive/ML Audio/P23/P23.npy\n",
            "Checking file: /content/drive/My Drive/ML Audio/P24/P24.npy\n",
            "Checking file: /content/drive/My Drive/ML Audio/P21/P21.npy\n",
            "Checking file: /content/drive/My Drive/ML Audio/P22/P22.npy\n",
            "Checking file: /content/drive/My Drive/ML Audio/P23/P23.npy\n",
            "Checking file: /content/drive/My Drive/ML Audio/P24/P24.npy\n",
            "Checking file: /content/drive/My Drive/ML Audio/P33/P33.npy\n",
            "Checking file: /content/drive/My Drive/ML Audio/P34/P34.npy\n",
            "Checking file: /content/drive/My Drive/ML Audio/P35/P35.npy\n",
            "Checking file: /content/drive/My Drive/ML Audio/P36/P36.npy\n",
            "Checking file: /content/drive/My Drive/ML Audio/P33/P33.npy\n",
            "Checking file: /content/drive/My Drive/ML Audio/P34/P34.npy\n",
            "Checking file: /content/drive/My Drive/ML Audio/P35/P35.npy\n",
            "Checking file: /content/drive/My Drive/ML Audio/P36/P36.npy\n",
            "Checking file: /content/drive/My Drive/ML Audio/P49/P49.npy\n",
            "Checking file: /content/drive/My Drive/ML Audio/P50/P50.npy\n",
            "Checking file: /content/drive/My Drive/ML Audio/P51/P51.npy\n",
            "Checking file: /content/drive/My Drive/ML Audio/P52/P52.npy\n",
            "Checking file: /content/drive/My Drive/ML Audio/P49/P49.npy\n",
            "Checking file: /content/drive/My Drive/ML Audio/P50/P50.npy\n",
            "Checking file: /content/drive/My Drive/ML Audio/P51/P51.npy\n",
            "Checking file: /content/drive/My Drive/ML Audio/P52/P52.npy\n",
            "Checking file: /content/drive/My Drive/ML Audio/P41/P41.npy\n",
            "Checking file: /content/drive/My Drive/ML Audio/P42/P42.npy\n",
            "Checking file: /content/drive/My Drive/ML Audio/P43/P43.npy\n",
            "Checking file: /content/drive/My Drive/ML Audio/P44/P44.npy\n",
            "Checking file: /content/drive/My Drive/ML Audio/P41/P41.npy\n",
            "Checking file: /content/drive/My Drive/ML Audio/P42/P42.npy\n",
            "Checking file: /content/drive/My Drive/ML Audio/P43/P43.npy\n",
            "Checking file: /content/drive/My Drive/ML Audio/P44/P44.npy\n",
            "Checking file: /content/drive/My Drive/ML Audio/P53/P53.npy\n",
            "Checking file: /content/drive/My Drive/ML Audio/P54/P54.npy\n",
            "Checking file: /content/drive/My Drive/ML Audio/P55/P55.npy\n",
            "Checking file: /content/drive/My Drive/ML Audio/P56/P56.npy\n",
            "Checking file: /content/drive/My Drive/ML Audio/P53/P53.npy\n",
            "Checking file: /content/drive/My Drive/ML Audio/P54/P54.npy\n",
            "Checking file: /content/drive/My Drive/ML Audio/P55/P55.npy\n",
            "Checking file: /content/drive/My Drive/ML Audio/P56/P56.npy\n",
            "X_train is None: False\n",
            "X_test is None: False\n",
            "y_train is None: False\n",
            "y_test is None: False\n",
            "X_train shape: (51, 2, 20, 11)\n",
            "X_test shape: (13, 2, 20, 11)\n"
          ]
        }
      ]
    },
    {
      "cell_type": "code",
      "source": [
        "# Check the data type and shape of y_train and y_test\n",
        "print(f\"y_train data type: {y_train.dtype}, y_train shape: {y_train.shape}\")\n",
        "print(f\"y_test data type: {y_test.dtype}, y_test shape: {y_test.shape}\")\n",
        "\n",
        "# If y_train and y_test are not integer arrays or are not 1-dimensional, convert them\n",
        "if y_train.dtype != 'int' or len(y_train.shape) != 1:\n",
        "    # Convert y_train to integer and ensure it's 1-dimensional\n",
        "    y_train = y_train.astype(int).flatten()\n",
        "\n",
        "if y_test.dtype != 'int' or len(y_test.shape) != 1:\n",
        "    # Convert y_test to integer and ensure it's 1-dimensional\n",
        "    y_test = y_test.astype(int).flatten()\n",
        "\n",
        "# Proceed with one-hot encoding\n",
        "#y_train_hot = np.zeros((y_train.shape[0], num_classes))\n",
        "#y_train_hot[np.arange(y_train.shape[0]), y_train] = 4\n",
        "\n",
        "#y_test_hot = np.zeros((y_test.shape[0], num_classes))\n",
        "#y_test_hot[np.arange(y_test.shape[0]), y_test] = 4"
      ],
      "metadata": {
        "colab": {
          "base_uri": "https://localhost:8080/"
        },
        "id": "7DtJieRy68OS",
        "outputId": "efca25d0-f855-420f-a05c-b052aa486b01"
      },
      "execution_count": null,
      "outputs": [
        {
          "output_type": "stream",
          "name": "stdout",
          "text": [
            "y_train data type: float32, y_train shape: (51, 32)\n",
            "y_test data type: float32, y_test shape: (13, 32)\n"
          ]
        }
      ]
    },
    {
      "cell_type": "code",
      "source": [
        "import keras\n",
        "from keras.models import Sequential\n",
        "from keras.layers import Dense, Dropout, Flatten, Conv2D, MaxPooling2D\n",
        "from keras.utils import to_categorical\n",
        "import wandb\n",
        "from wandb.keras import WandbCallback\n",
        "import matplotlib.pyplot as plt"
      ],
      "metadata": {
        "id": "EW_nhY8kbO5X"
      },
      "execution_count": null,
      "outputs": []
    },
    {
      "cell_type": "code",
      "source": [
        "print(f\"y_train shape: {y_train.shape}\")\n",
        "print(f\"y_test shape: {y_test.shape}\")"
      ],
      "metadata": {
        "colab": {
          "base_uri": "https://localhost:8080/"
        },
        "id": "2GfuNfQ1bfv8",
        "outputId": "e8231cfa-cf4b-4490-83ed-d416ed06d15c"
      },
      "execution_count": null,
      "outputs": [
        {
          "output_type": "stream",
          "name": "stdout",
          "text": [
            "y_train shape: (1632,)\n",
            "y_test shape: (416,)\n"
          ]
        }
      ]
    },
    {
      "cell_type": "code",
      "source": [
        "from sklearn.model_selection import train_test_split\n",
        "\n",
        "def get_train_test(data_path, session_participants):\n",
        "    session_label_info = get_labels(data_path, session_participants)\n",
        "    print(f\"Found session labels info: {session_label_info}\")\n",
        "\n",
        "    try:\n",
        "        X_train, X_test, y_train, y_test = load_dataset(data_path, session_participants, dataset_type='train')\n",
        "\n",
        "        # Check if any of the arrays are empty\n",
        "        if not (X_train.size and X_test.size and y_train.size and y_test.size):\n",
        "            raise ValueError(\"One or more data arrays are empty.\")\n",
        "\n",
        "    except Exception as e:\n",
        "        print(f\"Error during data loading: {e}\")\n",
        "        return None, None, None, None\n",
        "\n",
        "    print(f\"X_train shape: {X_train.shape}\")\n",
        "    print(f\"X_test shape: {X_test.shape}\")\n",
        "    print(f\"y_train shape: {y_train.shape}\")\n",
        "    print(f\"y_test shape: {y_test.shape}\")\n",
        "\n",
        "    return X_train, X_test, y_train, y_test\n",
        "\n",
        "# Assume session_participants is a dictionary mapping session IDs to participant labels\n",
        "session_participants = {\n",
        "   'S03': ['P09', 'P10', 'P11', 'P12'],\n",
        "    'S04': ['P09', 'P10', 'P11', 'P12'],\n",
        "    'S05': ['P13', 'P14', 'P15', 'P16'],\n",
        "    'S06': ['P13', 'P14', 'P15', 'P16'],\n",
        "    'S07': ['P17', 'P18', 'P19', 'P20'],\n",
        "    'S17': ['P17', 'P18', 'P19', 'P20'],\n",
        "    'S08': ['P21', 'P22', 'P23', 'P24'],\n",
        "    'S16': ['P21', 'P22', 'P23', 'P24'],\n",
        "    'S12': ['P33', 'P34', 'P35', 'P36'],\n",
        "    'S13': ['P33', 'P34', 'P35', 'P36'],\n",
        "    'S19': ['P49', 'P50', 'P51', 'P52'],\n",
        "    'S20': ['P49', 'P50', 'P51', 'P52'],\n",
        "    'S18': ['P41', 'P42', 'P43', 'P44'],\n",
        "    'S22': ['P41', 'P42', 'P43', 'P44'],\n",
        "    'S23': ['P53', 'P54', 'P55', 'P56'],\n",
        "    'S24': ['P53', 'P54', 'P55', 'P56']\n",
        "}\n",
        "\n",
        "\n",
        "data_path = '/content/drive/My Drive/ML Audio'\n",
        "X_train, X_test, y_train, y_test = get_train_test(data_path, session_participants)\n",
        "\n",
        "if X_train is None:\n",
        "    print(\"Data loading failed. Check the data files and loading process.\")\n",
        "\n",
        "\n",
        "\n"
      ],
      "metadata": {
        "id": "EgsrC3TnapUu",
        "outputId": "3186e7dc-a82f-4ee4-e8ed-c08c8a695b07",
        "colab": {
          "base_uri": "https://localhost:8080/"
        }
      },
      "execution_count": null,
      "outputs": [
        {
          "output_type": "stream",
          "name": "stdout",
          "text": [
            "Found session labels info: (['P09', 'P10', 'P11', 'P12', 'P13', 'P14', 'P15', 'P16', 'P17', 'P18', 'P19', 'P20', 'P21', 'P22', 'P23', 'P24', 'P33', 'P34', 'P35', 'P36', 'P41', 'P42', 'P43', 'P44', 'P49', 'P50', 'P51', 'P52', 'P53', 'P54', 'P55', 'P56'], array([ 0,  1,  2,  3,  4,  5,  6,  7,  8,  9, 10, 11, 12, 13, 14, 15, 16,\n",
            "       17, 18, 19, 20, 21, 22, 23, 24, 25, 26, 27, 28, 29, 30, 31]), array([[1., 0., 0., ..., 0., 0., 0.],\n",
            "       [0., 1., 0., ..., 0., 0., 0.],\n",
            "       [0., 0., 1., ..., 0., 0., 0.],\n",
            "       ...,\n",
            "       [0., 0., 0., ..., 1., 0., 0.],\n",
            "       [0., 0., 0., ..., 0., 1., 0.],\n",
            "       [0., 0., 0., ..., 0., 0., 1.]], dtype=float32))\n",
            "Loading dataset from /content/drive/My Drive/ML Audio\n",
            "Checking file: /content/drive/My Drive/ML Audio/P09/P09.npy\n",
            "Checking file: /content/drive/My Drive/ML Audio/P10/P10.npy\n",
            "Checking file: /content/drive/My Drive/ML Audio/P11/P11.npy\n",
            "Checking file: /content/drive/My Drive/ML Audio/P12/P12.npy\n",
            "Checking file: /content/drive/My Drive/ML Audio/P09/P09.npy\n",
            "Checking file: /content/drive/My Drive/ML Audio/P10/P10.npy\n",
            "Checking file: /content/drive/My Drive/ML Audio/P11/P11.npy\n",
            "Checking file: /content/drive/My Drive/ML Audio/P12/P12.npy\n",
            "Checking file: /content/drive/My Drive/ML Audio/P13/P13.npy\n",
            "Checking file: /content/drive/My Drive/ML Audio/P14/P14.npy\n",
            "Checking file: /content/drive/My Drive/ML Audio/P15/P15.npy\n",
            "Checking file: /content/drive/My Drive/ML Audio/P16/P16.npy\n",
            "Checking file: /content/drive/My Drive/ML Audio/P13/P13.npy\n",
            "Checking file: /content/drive/My Drive/ML Audio/P14/P14.npy\n",
            "Checking file: /content/drive/My Drive/ML Audio/P15/P15.npy\n",
            "Checking file: /content/drive/My Drive/ML Audio/P16/P16.npy\n",
            "Checking file: /content/drive/My Drive/ML Audio/P17/P17.npy\n",
            "Checking file: /content/drive/My Drive/ML Audio/P18/P18.npy\n",
            "Checking file: /content/drive/My Drive/ML Audio/P19/P19.npy\n",
            "Checking file: /content/drive/My Drive/ML Audio/P20/P20.npy\n",
            "Checking file: /content/drive/My Drive/ML Audio/P17/P17.npy\n",
            "Checking file: /content/drive/My Drive/ML Audio/P18/P18.npy\n",
            "Checking file: /content/drive/My Drive/ML Audio/P19/P19.npy\n",
            "Checking file: /content/drive/My Drive/ML Audio/P20/P20.npy\n",
            "Checking file: /content/drive/My Drive/ML Audio/P21/P21.npy\n",
            "Checking file: /content/drive/My Drive/ML Audio/P22/P22.npy\n",
            "Checking file: /content/drive/My Drive/ML Audio/P23/P23.npy\n",
            "Checking file: /content/drive/My Drive/ML Audio/P24/P24.npy\n",
            "Checking file: /content/drive/My Drive/ML Audio/P21/P21.npy\n",
            "Checking file: /content/drive/My Drive/ML Audio/P22/P22.npy\n",
            "Checking file: /content/drive/My Drive/ML Audio/P23/P23.npy\n",
            "Checking file: /content/drive/My Drive/ML Audio/P24/P24.npy\n",
            "Checking file: /content/drive/My Drive/ML Audio/P33/P33.npy\n",
            "Checking file: /content/drive/My Drive/ML Audio/P34/P34.npy\n",
            "Checking file: /content/drive/My Drive/ML Audio/P35/P35.npy\n",
            "Checking file: /content/drive/My Drive/ML Audio/P36/P36.npy\n",
            "Checking file: /content/drive/My Drive/ML Audio/P33/P33.npy\n",
            "Checking file: /content/drive/My Drive/ML Audio/P34/P34.npy\n",
            "Checking file: /content/drive/My Drive/ML Audio/P35/P35.npy\n",
            "Checking file: /content/drive/My Drive/ML Audio/P36/P36.npy\n",
            "Checking file: /content/drive/My Drive/ML Audio/P49/P49.npy\n",
            "Checking file: /content/drive/My Drive/ML Audio/P50/P50.npy\n",
            "Checking file: /content/drive/My Drive/ML Audio/P51/P51.npy\n",
            "Checking file: /content/drive/My Drive/ML Audio/P52/P52.npy\n",
            "Checking file: /content/drive/My Drive/ML Audio/P49/P49.npy\n",
            "Checking file: /content/drive/My Drive/ML Audio/P50/P50.npy\n",
            "Checking file: /content/drive/My Drive/ML Audio/P51/P51.npy\n",
            "Checking file: /content/drive/My Drive/ML Audio/P52/P52.npy\n",
            "Checking file: /content/drive/My Drive/ML Audio/P41/P41.npy\n",
            "Checking file: /content/drive/My Drive/ML Audio/P42/P42.npy\n",
            "Checking file: /content/drive/My Drive/ML Audio/P43/P43.npy\n",
            "Checking file: /content/drive/My Drive/ML Audio/P44/P44.npy\n",
            "Checking file: /content/drive/My Drive/ML Audio/P41/P41.npy\n",
            "Checking file: /content/drive/My Drive/ML Audio/P42/P42.npy\n",
            "Checking file: /content/drive/My Drive/ML Audio/P43/P43.npy\n",
            "Checking file: /content/drive/My Drive/ML Audio/P44/P44.npy\n",
            "Checking file: /content/drive/My Drive/ML Audio/P53/P53.npy\n",
            "Checking file: /content/drive/My Drive/ML Audio/P54/P54.npy\n",
            "Checking file: /content/drive/My Drive/ML Audio/P55/P55.npy\n",
            "Checking file: /content/drive/My Drive/ML Audio/P56/P56.npy\n",
            "Checking file: /content/drive/My Drive/ML Audio/P53/P53.npy\n",
            "Checking file: /content/drive/My Drive/ML Audio/P54/P54.npy\n",
            "Checking file: /content/drive/My Drive/ML Audio/P55/P55.npy\n",
            "Checking file: /content/drive/My Drive/ML Audio/P56/P56.npy\n",
            "X_train is None: False\n",
            "X_test is None: False\n",
            "y_train is None: False\n",
            "y_test is None: False\n",
            "X_train shape: (51, 2, 20, 11)\n",
            "X_test shape: (13, 2, 20, 11)\n",
            "X_train shape: (51, 2, 20, 11)\n",
            "X_test shape: (13, 2, 20, 11)\n",
            "y_train shape: (51, 32)\n",
            "y_test shape: (13, 32)\n"
          ]
        }
      ]
    },
    {
      "cell_type": "code",
      "source": [
        "from keras.models import Sequential\n",
        "from keras.layers import LSTM, Dense, Dropout\n",
        "import numpy as np\n",
        "from sklearn.model_selection import train_test_split\n",
        "from keras.utils import to_categorical\n",
        "import wandb\n",
        "from wandb.keras import WandbCallback\n",
        "\n",
        "# Initialize wandb and set configuration\n",
        "wandb.init()\n",
        "config = wandb.config\n",
        "\n",
        "session_participants = {\n",
        "   'S03': ['P09', 'P10', 'P11', 'P12'],\n",
        "    'S04': ['P09', 'P10', 'P11', 'P12'],\n",
        "    'S05': ['P13', 'P14', 'P15', 'P16'],\n",
        "    'S06': ['P13', 'P14', 'P15', 'P16'],\n",
        "    'S07': ['P17', 'P18', 'P19', 'P20'],\n",
        "    'S17': ['P17', 'P18', 'P19', 'P20'],\n",
        "    'S08': ['P21', 'P22', 'P23', 'P24'],\n",
        "    'S16': ['P21', 'P22', 'P23', 'P24'],\n",
        "    'S12': ['P33', 'P34', 'P35', 'P36'],\n",
        "    'S13': ['P33', 'P34', 'P35', 'P36'],\n",
        "    'S19': ['P49', 'P50', 'P51', 'P52'],\n",
        "    'S20': ['P49', 'P50', 'P51', 'P52'],\n",
        "    'S18': ['P41', 'P42', 'P43', 'P44'],\n",
        "    'S22': ['P41', 'P42', 'P43', 'P44'],\n",
        "    'S23': ['P53', 'P54', 'P55', 'P56'],\n",
        "    'S24': ['P53', 'P54', 'P55', 'P56']\n",
        "}\n",
        "\n",
        "# Set model parameters\n",
        "config.max_len = 220  # Combined time steps and features\n",
        "config.channels = 2   # Number of channels\n",
        "config.epochs = 50    # Number of epochs for training\n",
        "num_classes = 32      # Total number of unique labels\n",
        "\n",
        "# Flatten the list of participants into a single list of unique labels\n",
        "unique_labels = sorted(set([label for participants in session_participants.values() for label in participants]))\n",
        "\n",
        "# Create a mapping from labels to integer indices\n",
        "label_to_index = {label: idx for idx, label in enumerate(unique_labels)}\n",
        "\n",
        "# Define a function to load data respecting the session_participants mapping\n",
        "def load_data_with_sessions(base_path, session_participants):\n",
        "    X = []\n",
        "    y = []\n",
        "    for session, participants in session_participants.items():\n",
        "        for participant in participants:\n",
        "            # Load data for each participant in each session\n",
        "            data_file = os.path.join(base_path, session, participant + '.npy')\n",
        "            if os.path.exists(data_file):\n",
        "                data = np.load(data_file)\n",
        "                X.append(data)\n",
        "                y.extend([participant] * len(data))\n",
        "            else:\n",
        "                print(f\"Data file not found: {data_file}\")\n",
        "    return np.concatenate(X), np.array(y)\n",
        "\n",
        "# Load data\n",
        "data_path = '/content/drive/My Drive/ML Audio'\n",
        "X, y = load_data_with_sessions(data_path, session_participants)\n",
        "\n",
        "# Convert y labels to integer indices and one-hot encode\n",
        "y_indices = np.array([label_to_index[label] for label in y])\n",
        "y_hot = to_categorical(y_indices, num_classes=len(unique_labels))\n",
        "\n",
        "# Split data into training and testing sets\n",
        "X_train, X_test, y_train, y_test = train_test_split(X, y_hot, test_size=0.2, random_state=42)\n",
        "\n",
        "# Reshape X_train and X_test for Conv2D input\n",
        "X_train = X_train.reshape(X_train.shape[0], config.channels, config.max_len, 1)\n",
        "X_test = X_test.reshape(X_test.shape[0], config.channels, config.max_len, 1)\n",
        "\n",
        "\n",
        "model = Sequential()\n",
        "model.add(LSTM(64, input_shape=(config.max_len, config.channels), return_sequences=True))\n",
        "model.add(LSTM(32, return_sequences=False))\n",
        "model.add(Dense(64, activation='relu'))\n",
        "model.add(Dropout(0.5))\n",
        "model.add(Dense(num_classes, activation='softmax'))\n",
        "\n",
        "\n",
        "\n",
        "# Compile the model\n",
        "model.compile(loss=\"categorical_crossentropy\", optimizer=\"adam\", metrics=['accuracy'])\n",
        "\n",
        "# Reshape X_train and X_test for Conv2D input\n",
        "X_train = X_train.reshape(X_train.shape[0], config.max_len, config.channels, 1)\n",
        "X_test = X_test.reshape(X_test.shape[0], config.max_len, config.channels, 1)\n",
        "\n",
        "# Train the model\n",
        "model.fit(X_train, y_train, epochs=config.epochs, validation_data=(X_test, y_test), callbacks=[WandbCallback()])"
      ],
      "metadata": {
        "colab": {
          "base_uri": "https://localhost:8080/",
          "height": 1000
        },
        "id": "fueQlO9Ecxfw",
        "outputId": "4630aa4e-ce6a-4b77-a1f7-83cc38dadc17"
      },
      "execution_count": null,
      "outputs": [
        {
          "output_type": "display_data",
          "data": {
            "text/plain": [
              "<IPython.core.display.Javascript object>"
            ],
            "application/javascript": [
              "\n",
              "        window._wandbApiKey = new Promise((resolve, reject) => {\n",
              "            function loadScript(url) {\n",
              "            return new Promise(function(resolve, reject) {\n",
              "                let newScript = document.createElement(\"script\");\n",
              "                newScript.onerror = reject;\n",
              "                newScript.onload = resolve;\n",
              "                document.body.appendChild(newScript);\n",
              "                newScript.src = url;\n",
              "            });\n",
              "            }\n",
              "            loadScript(\"https://cdn.jsdelivr.net/npm/postmate/build/postmate.min.js\").then(() => {\n",
              "            const iframe = document.createElement('iframe')\n",
              "            iframe.style.cssText = \"width:0;height:0;border:none\"\n",
              "            document.body.appendChild(iframe)\n",
              "            const handshake = new Postmate({\n",
              "                container: iframe,\n",
              "                url: 'https://wandb.ai/authorize'\n",
              "            });\n",
              "            const timeout = setTimeout(() => reject(\"Couldn't auto authenticate\"), 5000)\n",
              "            handshake.then(function(child) {\n",
              "                child.on('authorize', data => {\n",
              "                    clearTimeout(timeout)\n",
              "                    resolve(data)\n",
              "                });\n",
              "            });\n",
              "            })\n",
              "        });\n",
              "    "
            ]
          },
          "metadata": {}
        },
        {
          "output_type": "stream",
          "name": "stderr",
          "text": [
            "\u001b[34m\u001b[1mwandb\u001b[0m: Appending key for api.wandb.ai to your netrc file: /root/.netrc\n"
          ]
        },
        {
          "output_type": "display_data",
          "data": {
            "text/plain": [
              "<IPython.core.display.HTML object>"
            ],
            "text/html": [
              "Tracking run with wandb version 0.16.1"
            ]
          },
          "metadata": {}
        },
        {
          "output_type": "display_data",
          "data": {
            "text/plain": [
              "<IPython.core.display.HTML object>"
            ],
            "text/html": [
              "Run data is saved locally in <code>/content/wandb/run-20231221_210520-bwkae6ro</code>"
            ]
          },
          "metadata": {}
        },
        {
          "output_type": "display_data",
          "data": {
            "text/plain": [
              "<IPython.core.display.HTML object>"
            ],
            "text/html": [
              "Syncing run <strong><a href='https://wandb.ai/tgrogan/uncategorized/runs/bwkae6ro' target=\"_blank\">dandy-fire-78</a></strong> to <a href='https://wandb.ai/tgrogan/uncategorized' target=\"_blank\">Weights & Biases</a> (<a href='https://wandb.me/run' target=\"_blank\">docs</a>)<br/>"
            ]
          },
          "metadata": {}
        },
        {
          "output_type": "display_data",
          "data": {
            "text/plain": [
              "<IPython.core.display.HTML object>"
            ],
            "text/html": [
              " View project at <a href='https://wandb.ai/tgrogan/uncategorized' target=\"_blank\">https://wandb.ai/tgrogan/uncategorized</a>"
            ]
          },
          "metadata": {}
        },
        {
          "output_type": "display_data",
          "data": {
            "text/plain": [
              "<IPython.core.display.HTML object>"
            ],
            "text/html": [
              " View run at <a href='https://wandb.ai/tgrogan/uncategorized/runs/bwkae6ro' target=\"_blank\">https://wandb.ai/tgrogan/uncategorized/runs/bwkae6ro</a>"
            ]
          },
          "metadata": {}
        },
        {
          "output_type": "stream",
          "name": "stderr",
          "text": [
            "\u001b[34m\u001b[1mwandb\u001b[0m: \u001b[33mWARNING\u001b[0m The save_model argument by default saves the model in the HDF5 format that cannot save custom objects like subclassed models and custom layers. This behavior will be deprecated in a future release in favor of the SavedModel format. Meanwhile, the HDF5 model is saved as W&B files and the SavedModel as W&B Artifacts.\n"
          ]
        },
        {
          "output_type": "stream",
          "name": "stdout",
          "text": [
            "Epoch 1/50\n",
            "2/2 [==============================] - ETA: 0s - loss: 3.4510 - accuracy: 0.0196    "
          ]
        },
        {
          "output_type": "stream",
          "name": "stderr",
          "text": [
            "/usr/local/lib/python3.10/dist-packages/keras/src/engine/training.py:3103: UserWarning: You are saving your model as an HDF5 file via `model.save()`. This file format is considered legacy. We recommend using instead the native Keras format, e.g. `model.save('my_model.keras')`.\n",
            "  saving_api.save_model(\n",
            "\u001b[34m\u001b[1mwandb\u001b[0m: Adding directory to artifact (/content/wandb/run-20231221_210520-bwkae6ro/files/model-best)... Done. 0.0s\n"
          ]
        },
        {
          "output_type": "stream",
          "name": "stdout",
          "text": [
            "\b\b\b\b\b\b\b\b\b\b\b\b\b\b\b\b\b\b\b\b\b\b\b\b\b\b\b\b\b\b\b\b\b\b\b\b\b\b\b\b\b\b\b\b\b\b\b\b\b\b\b\b\b\b\b\b\b\b\b\b\b\b\b\b\b\b\b\b\b\b\b\b\b\b\b\b\b\b\b\b\r2/2 [==============================] - 15s 10s/step - loss: 3.4510 - accuracy: 0.0196 - val_loss: 3.3961 - val_accuracy: 0.0769\n",
            "Epoch 2/50\n",
            "2/2 [==============================] - ETA: 0s - loss: 3.4284 - accuracy: 0.0588    "
          ]
        },
        {
          "output_type": "stream",
          "name": "stderr",
          "text": [
            "/usr/local/lib/python3.10/dist-packages/keras/src/engine/training.py:3103: UserWarning: You are saving your model as an HDF5 file via `model.save()`. This file format is considered legacy. We recommend using instead the native Keras format, e.g. `model.save('my_model.keras')`.\n",
            "  saving_api.save_model(\n",
            "\u001b[34m\u001b[1mwandb\u001b[0m: Adding directory to artifact (/content/wandb/run-20231221_210520-bwkae6ro/files/model-best)... Done. 0.0s\n"
          ]
        },
        {
          "output_type": "stream",
          "name": "stdout",
          "text": [
            "\b\b\b\b\b\b\b\b\b\b\b\b\b\b\b\b\b\b\b\b\b\b\b\b\b\b\b\b\b\b\b\b\b\b\b\b\b\b\b\b\b\b\b\b\b\b\b\b\b\b\b\b\b\b\b\b\b\b\b\b\b\b\b\b\b\b\b\b\b\b\b\b\b\b\b\b\b\b\b\b\r2/2 [==============================] - 9s 9s/step - loss: 3.4284 - accuracy: 0.0588 - val_loss: 3.3891 - val_accuracy: 0.0769\n",
            "Epoch 3/50\n",
            "2/2 [==============================] - ETA: 0s - loss: 3.3969 - accuracy: 0.1373"
          ]
        },
        {
          "output_type": "stream",
          "name": "stderr",
          "text": [
            "/usr/local/lib/python3.10/dist-packages/keras/src/engine/training.py:3103: UserWarning: You are saving your model as an HDF5 file via `model.save()`. This file format is considered legacy. We recommend using instead the native Keras format, e.g. `model.save('my_model.keras')`.\n",
            "  saving_api.save_model(\n",
            "\u001b[34m\u001b[1mwandb\u001b[0m: Adding directory to artifact (/content/wandb/run-20231221_210520-bwkae6ro/files/model-best)... Done. 0.0s\n"
          ]
        },
        {
          "output_type": "stream",
          "name": "stdout",
          "text": [
            "\b\b\b\b\b\b\b\b\b\b\b\b\b\b\b\b\b\b\b\b\b\b\b\b\b\b\b\b\b\b\b\b\b\b\b\b\b\b\b\b\b\b\b\b\b\b\b\b\b\b\b\b\b\b\b\b\b\b\b\b\b\b\b\b\b\b\b\b\b\b\b\b\b\b\b\b\b\b\b\b\r2/2 [==============================] - 8s 7s/step - loss: 3.3969 - accuracy: 0.1373 - val_loss: 3.3815 - val_accuracy: 0.0769\n",
            "Epoch 4/50\n",
            "2/2 [==============================] - ETA: 0s - loss: 3.3750 - accuracy: 0.0784"
          ]
        },
        {
          "output_type": "stream",
          "name": "stderr",
          "text": [
            "/usr/local/lib/python3.10/dist-packages/keras/src/engine/training.py:3103: UserWarning: You are saving your model as an HDF5 file via `model.save()`. This file format is considered legacy. We recommend using instead the native Keras format, e.g. `model.save('my_model.keras')`.\n",
            "  saving_api.save_model(\n",
            "\u001b[34m\u001b[1mwandb\u001b[0m: Adding directory to artifact (/content/wandb/run-20231221_210520-bwkae6ro/files/model-best)... Done. 0.0s\n"
          ]
        },
        {
          "output_type": "stream",
          "name": "stdout",
          "text": [
            "\b\b\b\b\b\b\b\b\b\b\b\b\b\b\b\b\b\b\b\b\b\b\b\b\b\b\b\b\b\b\b\b\b\b\b\b\b\b\b\b\b\b\b\b\b\b\b\b\b\b\b\b\b\b\b\b\b\b\b\b\b\b\b\b\b\b\b\b\b\b\b\b\b\b\b\b\b\b\b\b\r2/2 [==============================] - 12s 11s/step - loss: 3.3750 - accuracy: 0.0784 - val_loss: 3.3730 - val_accuracy: 0.0769\n",
            "Epoch 5/50\n",
            "2/2 [==============================] - ETA: 0s - loss: 3.3822 - accuracy: 0.0980"
          ]
        },
        {
          "output_type": "stream",
          "name": "stderr",
          "text": [
            "/usr/local/lib/python3.10/dist-packages/keras/src/engine/training.py:3103: UserWarning: You are saving your model as an HDF5 file via `model.save()`. This file format is considered legacy. We recommend using instead the native Keras format, e.g. `model.save('my_model.keras')`.\n",
            "  saving_api.save_model(\n",
            "\u001b[34m\u001b[1mwandb\u001b[0m: Adding directory to artifact (/content/wandb/run-20231221_210520-bwkae6ro/files/model-best)... Done. 0.0s\n"
          ]
        },
        {
          "output_type": "stream",
          "name": "stdout",
          "text": [
            "\b\b\b\b\b\b\b\b\b\b\b\b\b\b\b\b\b\b\b\b\b\b\b\b\b\b\b\b\b\b\b\b\b\b\b\b\b\b\b\b\b\b\b\b\b\b\b\b\b\b\b\b\b\b\b\b\b\b\b\b\b\b\b\b\b\b\b\b\b\b\b\b\b\b\b\b\b\b\b\b\r2/2 [==============================] - 9s 9s/step - loss: 3.3822 - accuracy: 0.0980 - val_loss: 3.3659 - val_accuracy: 0.0769\n",
            "Epoch 6/50\n",
            "2/2 [==============================] - ETA: 0s - loss: 3.3580 - accuracy: 0.1176"
          ]
        },
        {
          "output_type": "stream",
          "name": "stderr",
          "text": [
            "/usr/local/lib/python3.10/dist-packages/keras/src/engine/training.py:3103: UserWarning: You are saving your model as an HDF5 file via `model.save()`. This file format is considered legacy. We recommend using instead the native Keras format, e.g. `model.save('my_model.keras')`.\n",
            "  saving_api.save_model(\n",
            "\u001b[34m\u001b[1mwandb\u001b[0m: Adding directory to artifact (/content/wandb/run-20231221_210520-bwkae6ro/files/model-best)... Done. 0.0s\n"
          ]
        },
        {
          "output_type": "stream",
          "name": "stdout",
          "text": [
            "\b\b\b\b\b\b\b\b\b\b\b\b\b\b\b\b\b\b\b\b\b\b\b\b\b\b\b\b\b\b\b\b\b\b\b\b\b\b\b\b\b\b\b\b\b\b\b\b\b\b\b\b\b\b\b\b\b\b\b\b\b\b\b\b\b\b\b\b\b\b\b\b\b\b\b\b\b\b\b\b\r2/2 [==============================] - 9s 9s/step - loss: 3.3580 - accuracy: 0.1176 - val_loss: 3.3557 - val_accuracy: 0.0769\n",
            "Epoch 7/50\n",
            "2/2 [==============================] - ETA: 0s - loss: 3.3666 - accuracy: 0.0000e+00"
          ]
        },
        {
          "output_type": "stream",
          "name": "stderr",
          "text": [
            "/usr/local/lib/python3.10/dist-packages/keras/src/engine/training.py:3103: UserWarning: You are saving your model as an HDF5 file via `model.save()`. This file format is considered legacy. We recommend using instead the native Keras format, e.g. `model.save('my_model.keras')`.\n",
            "  saving_api.save_model(\n",
            "\u001b[34m\u001b[1mwandb\u001b[0m: Adding directory to artifact (/content/wandb/run-20231221_210520-bwkae6ro/files/model-best)... Done. 0.0s\n"
          ]
        },
        {
          "output_type": "stream",
          "name": "stdout",
          "text": [
            "\b\b\b\b\b\b\b\b\b\b\b\b\b\b\b\b\b\b\b\b\b\b\b\b\b\b\b\b\b\b\b\b\b\b\b\b\b\b\b\b\b\b\b\b\b\b\b\b\b\b\b\b\b\b\b\b\b\b\b\b\b\b\b\b\b\b\b\b\b\b\b\b\b\b\b\b\b\b\b\b\b\b\b\b\r2/2 [==============================] - 9s 9s/step - loss: 3.3666 - accuracy: 0.0000e+00 - val_loss: 3.3421 - val_accuracy: 0.0769\n",
            "Epoch 8/50\n",
            "2/2 [==============================] - ETA: 0s - loss: 3.3144 - accuracy: 0.1176"
          ]
        },
        {
          "output_type": "stream",
          "name": "stderr",
          "text": [
            "/usr/local/lib/python3.10/dist-packages/keras/src/engine/training.py:3103: UserWarning: You are saving your model as an HDF5 file via `model.save()`. This file format is considered legacy. We recommend using instead the native Keras format, e.g. `model.save('my_model.keras')`.\n",
            "  saving_api.save_model(\n",
            "\u001b[34m\u001b[1mwandb\u001b[0m: Adding directory to artifact (/content/wandb/run-20231221_210520-bwkae6ro/files/model-best)... Done. 0.0s\n"
          ]
        },
        {
          "output_type": "stream",
          "name": "stdout",
          "text": [
            "\b\b\b\b\b\b\b\b\b\b\b\b\b\b\b\b\b\b\b\b\b\b\b\b\b\b\b\b\b\b\b\b\b\b\b\b\b\b\b\b\b\b\b\b\b\b\b\b\b\b\b\b\b\b\b\b\b\b\b\b\b\b\b\b\b\b\b\b\b\b\b\b\b\b\b\b\b\b\b\b\r2/2 [==============================] - 8s 8s/step - loss: 3.3144 - accuracy: 0.1176 - val_loss: 3.3281 - val_accuracy: 0.0769\n",
            "Epoch 9/50\n",
            "2/2 [==============================] - ETA: 0s - loss: 3.3458 - accuracy: 0.0980"
          ]
        },
        {
          "output_type": "stream",
          "name": "stderr",
          "text": [
            "/usr/local/lib/python3.10/dist-packages/keras/src/engine/training.py:3103: UserWarning: You are saving your model as an HDF5 file via `model.save()`. This file format is considered legacy. We recommend using instead the native Keras format, e.g. `model.save('my_model.keras')`.\n",
            "  saving_api.save_model(\n",
            "\u001b[34m\u001b[1mwandb\u001b[0m: Adding directory to artifact (/content/wandb/run-20231221_210520-bwkae6ro/files/model-best)... Done. 0.0s\n"
          ]
        },
        {
          "output_type": "stream",
          "name": "stdout",
          "text": [
            "\b\b\b\b\b\b\b\b\b\b\b\b\b\b\b\b\b\b\b\b\b\b\b\b\b\b\b\b\b\b\b\b\b\b\b\b\b\b\b\b\b\b\b\b\b\b\b\b\b\b\b\b\b\b\b\b\b\b\b\b\b\b\b\b\b\b\b\b\b\b\b\b\b\b\b\b\b\b\b\b\r2/2 [==============================] - 9s 9s/step - loss: 3.3458 - accuracy: 0.0980 - val_loss: 3.3164 - val_accuracy: 0.0769\n",
            "Epoch 10/50\n",
            "2/2 [==============================] - ETA: 0s - loss: 3.2803 - accuracy: 0.1765"
          ]
        },
        {
          "output_type": "stream",
          "name": "stderr",
          "text": [
            "/usr/local/lib/python3.10/dist-packages/keras/src/engine/training.py:3103: UserWarning: You are saving your model as an HDF5 file via `model.save()`. This file format is considered legacy. We recommend using instead the native Keras format, e.g. `model.save('my_model.keras')`.\n",
            "  saving_api.save_model(\n",
            "\u001b[34m\u001b[1mwandb\u001b[0m: Adding directory to artifact (/content/wandb/run-20231221_210520-bwkae6ro/files/model-best)... Done. 0.0s\n"
          ]
        },
        {
          "output_type": "stream",
          "name": "stdout",
          "text": [
            "\b\b\b\b\b\b\b\b\b\b\b\b\b\b\b\b\b\b\b\b\b\b\b\b\b\b\b\b\b\b\b\b\b\b\b\b\b\b\b\b\b\b\b\b\b\b\b\b\b\b\b\b\b\b\b\b\b\b\b\b\b\b\b\b\b\b\b\b\b\b\b\b\b\b\b\b\b\b\b\b\r2/2 [==============================] - 9s 9s/step - loss: 3.2803 - accuracy: 0.1765 - val_loss: 3.3051 - val_accuracy: 0.0769\n",
            "Epoch 11/50\n",
            "2/2 [==============================] - ETA: 0s - loss: 3.2118 - accuracy: 0.2353"
          ]
        },
        {
          "output_type": "stream",
          "name": "stderr",
          "text": [
            "/usr/local/lib/python3.10/dist-packages/keras/src/engine/training.py:3103: UserWarning: You are saving your model as an HDF5 file via `model.save()`. This file format is considered legacy. We recommend using instead the native Keras format, e.g. `model.save('my_model.keras')`.\n",
            "  saving_api.save_model(\n",
            "\u001b[34m\u001b[1mwandb\u001b[0m: Adding directory to artifact (/content/wandb/run-20231221_210520-bwkae6ro/files/model-best)... Done. 0.0s\n"
          ]
        },
        {
          "output_type": "stream",
          "name": "stdout",
          "text": [
            "\b\b\b\b\b\b\b\b\b\b\b\b\b\b\b\b\b\b\b\b\b\b\b\b\b\b\b\b\b\b\b\b\b\b\b\b\b\b\b\b\b\b\b\b\b\b\b\b\b\b\b\b\b\b\b\b\b\b\b\b\b\b\b\b\b\b\b\b\b\b\b\b\b\b\b\b\b\b\b\b\r2/2 [==============================] - 9s 8s/step - loss: 3.2118 - accuracy: 0.2353 - val_loss: 3.2898 - val_accuracy: 0.0769\n",
            "Epoch 12/50\n",
            "2/2 [==============================] - ETA: 0s - loss: 3.2272 - accuracy: 0.1765"
          ]
        },
        {
          "output_type": "stream",
          "name": "stderr",
          "text": [
            "/usr/local/lib/python3.10/dist-packages/keras/src/engine/training.py:3103: UserWarning: You are saving your model as an HDF5 file via `model.save()`. This file format is considered legacy. We recommend using instead the native Keras format, e.g. `model.save('my_model.keras')`.\n",
            "  saving_api.save_model(\n",
            "\u001b[34m\u001b[1mwandb\u001b[0m: Adding directory to artifact (/content/wandb/run-20231221_210520-bwkae6ro/files/model-best)... Done. 0.0s\n"
          ]
        },
        {
          "output_type": "stream",
          "name": "stdout",
          "text": [
            "\b\b\b\b\b\b\b\b\b\b\b\b\b\b\b\b\b\b\b\b\b\b\b\b\b\b\b\b\b\b\b\b\b\b\b\b\b\b\b\b\b\b\b\b\b\b\b\b\b\b\b\b\b\b\b\b\b\b\b\b\b\b\b\b\b\b\b\b\b\b\b\b\b\b\b\b\b\b\b\b\r2/2 [==============================] - 10s 10s/step - loss: 3.2272 - accuracy: 0.1765 - val_loss: 3.2762 - val_accuracy: 0.0769\n",
            "Epoch 13/50\n",
            "2/2 [==============================] - ETA: 0s - loss: 3.1865 - accuracy: 0.1961"
          ]
        },
        {
          "output_type": "stream",
          "name": "stderr",
          "text": [
            "/usr/local/lib/python3.10/dist-packages/keras/src/engine/training.py:3103: UserWarning: You are saving your model as an HDF5 file via `model.save()`. This file format is considered legacy. We recommend using instead the native Keras format, e.g. `model.save('my_model.keras')`.\n",
            "  saving_api.save_model(\n",
            "\u001b[34m\u001b[1mwandb\u001b[0m: Adding directory to artifact (/content/wandb/run-20231221_210520-bwkae6ro/files/model-best)... Done. 0.0s\n"
          ]
        },
        {
          "output_type": "stream",
          "name": "stdout",
          "text": [
            "\b\b\b\b\b\b\b\b\b\b\b\b\b\b\b\b\b\b\b\b\b\b\b\b\b\b\b\b\b\b\b\b\b\b\b\b\b\b\b\b\b\b\b\b\b\b\b\b\b\b\b\b\b\b\b\b\b\b\b\b\b\b\b\b\b\b\b\b\b\b\b\b\b\b\b\b\b\b\b\b\r2/2 [==============================] - 8s 7s/step - loss: 3.1865 - accuracy: 0.1961 - val_loss: 3.2651 - val_accuracy: 0.0769\n",
            "Epoch 14/50\n",
            "2/2 [==============================] - ETA: 0s - loss: 3.1442 - accuracy: 0.1373"
          ]
        },
        {
          "output_type": "stream",
          "name": "stderr",
          "text": [
            "/usr/local/lib/python3.10/dist-packages/keras/src/engine/training.py:3103: UserWarning: You are saving your model as an HDF5 file via `model.save()`. This file format is considered legacy. We recommend using instead the native Keras format, e.g. `model.save('my_model.keras')`.\n",
            "  saving_api.save_model(\n",
            "\u001b[34m\u001b[1mwandb\u001b[0m: Adding directory to artifact (/content/wandb/run-20231221_210520-bwkae6ro/files/model-best)... Done. 0.0s\n"
          ]
        },
        {
          "output_type": "stream",
          "name": "stdout",
          "text": [
            "\b\b\b\b\b\b\b\b\b\b\b\b\b\b\b\b\b\b\b\b\b\b\b\b\b\b\b\b\b\b\b\b\b\b\b\b\b\b\b\b\b\b\b\b\b\b\b\b\b\b\b\b\b\b\b\b\b\b\b\b\b\b\b\b\b\b\b\b\b\b\b\b\b\b\b\b\b\b\b\b\r2/2 [==============================] - 9s 9s/step - loss: 3.1442 - accuracy: 0.1373 - val_loss: 3.2501 - val_accuracy: 0.0769\n",
            "Epoch 15/50\n",
            "2/2 [==============================] - ETA: 0s - loss: 3.0836 - accuracy: 0.2353"
          ]
        },
        {
          "output_type": "stream",
          "name": "stderr",
          "text": [
            "/usr/local/lib/python3.10/dist-packages/keras/src/engine/training.py:3103: UserWarning: You are saving your model as an HDF5 file via `model.save()`. This file format is considered legacy. We recommend using instead the native Keras format, e.g. `model.save('my_model.keras')`.\n",
            "  saving_api.save_model(\n",
            "\u001b[34m\u001b[1mwandb\u001b[0m: Adding directory to artifact (/content/wandb/run-20231221_210520-bwkae6ro/files/model-best)... Done. 0.0s\n"
          ]
        },
        {
          "output_type": "stream",
          "name": "stdout",
          "text": [
            "\b\b\b\b\b\b\b\b\b\b\b\b\b\b\b\b\b\b\b\b\b\b\b\b\b\b\b\b\b\b\b\b\b\b\b\b\b\b\b\b\b\b\b\b\b\b\b\b\b\b\b\b\b\b\b\b\b\b\b\b\b\b\b\b\b\b\b\b\b\b\b\b\b\b\b\b\b\b\b\b\r2/2 [==============================] - 9s 8s/step - loss: 3.0836 - accuracy: 0.2353 - val_loss: 3.2364 - val_accuracy: 0.0769\n",
            "Epoch 16/50\n",
            "2/2 [==============================] - ETA: 0s - loss: 3.1169 - accuracy: 0.2157"
          ]
        },
        {
          "output_type": "stream",
          "name": "stderr",
          "text": [
            "/usr/local/lib/python3.10/dist-packages/keras/src/engine/training.py:3103: UserWarning: You are saving your model as an HDF5 file via `model.save()`. This file format is considered legacy. We recommend using instead the native Keras format, e.g. `model.save('my_model.keras')`.\n",
            "  saving_api.save_model(\n",
            "\u001b[34m\u001b[1mwandb\u001b[0m: Adding directory to artifact (/content/wandb/run-20231221_210520-bwkae6ro/files/model-best)... Done. 0.0s\n"
          ]
        },
        {
          "output_type": "stream",
          "name": "stdout",
          "text": [
            "\b\b\b\b\b\b\b\b\b\b\b\b\b\b\b\b\b\b\b\b\b\b\b\b\b\b\b\b\b\b\b\b\b\b\b\b\b\b\b\b\b\b\b\b\b\b\b\b\b\b\b\b\b\b\b\b\b\b\b\b\b\b\b\b\b\b\b\b\b\b\b\b\b\b\b\b\b\b\b\b\r2/2 [==============================] - 9s 9s/step - loss: 3.1169 - accuracy: 0.2157 - val_loss: 3.2198 - val_accuracy: 0.0769\n",
            "Epoch 17/50\n",
            "2/2 [==============================] - ETA: 0s - loss: 3.1099 - accuracy: 0.1765"
          ]
        },
        {
          "output_type": "stream",
          "name": "stderr",
          "text": [
            "/usr/local/lib/python3.10/dist-packages/keras/src/engine/training.py:3103: UserWarning: You are saving your model as an HDF5 file via `model.save()`. This file format is considered legacy. We recommend using instead the native Keras format, e.g. `model.save('my_model.keras')`.\n",
            "  saving_api.save_model(\n",
            "\u001b[34m\u001b[1mwandb\u001b[0m: Adding directory to artifact (/content/wandb/run-20231221_210520-bwkae6ro/files/model-best)... Done. 0.0s\n"
          ]
        },
        {
          "output_type": "stream",
          "name": "stdout",
          "text": [
            "\b\b\b\b\b\b\b\b\b\b\b\b\b\b\b\b\b\b\b\b\b\b\b\b\b\b\b\b\b\b\b\b\b\b\b\b\b\b\b\b\b\b\b\b\b\b\b\b\b\b\b\b\b\b\b\b\b\b\b\b\b\b\b\b\b\b\b\b\b\b\b\b\b\b\b\b\b\b\b\b\r2/2 [==============================] - 10s 9s/step - loss: 3.1099 - accuracy: 0.1765 - val_loss: 3.2050 - val_accuracy: 0.0769\n",
            "Epoch 18/50\n",
            "2/2 [==============================] - ETA: 0s - loss: 3.0246 - accuracy: 0.2353"
          ]
        },
        {
          "output_type": "stream",
          "name": "stderr",
          "text": [
            "/usr/local/lib/python3.10/dist-packages/keras/src/engine/training.py:3103: UserWarning: You are saving your model as an HDF5 file via `model.save()`. This file format is considered legacy. We recommend using instead the native Keras format, e.g. `model.save('my_model.keras')`.\n",
            "  saving_api.save_model(\n",
            "\u001b[34m\u001b[1mwandb\u001b[0m: Adding directory to artifact (/content/wandb/run-20231221_210520-bwkae6ro/files/model-best)... Done. 0.0s\n"
          ]
        },
        {
          "output_type": "stream",
          "name": "stdout",
          "text": [
            "\b\b\b\b\b\b\b\b\b\b\b\b\b\b\b\b\b\b\b\b\b\b\b\b\b\b\b\b\b\b\b\b\b\b\b\b\b\b\b\b\b\b\b\b\b\b\b\b\b\b\b\b\b\b\b\b\b\b\b\b\b\b\b\b\b\b\b\b\b\b\b\b\b\b\b\b\b\b\b\b\r2/2 [==============================] - 8s 8s/step - loss: 3.0246 - accuracy: 0.2353 - val_loss: 3.1947 - val_accuracy: 0.0769\n",
            "Epoch 19/50\n",
            "2/2 [==============================] - ETA: 0s - loss: 2.9875 - accuracy: 0.1176"
          ]
        },
        {
          "output_type": "stream",
          "name": "stderr",
          "text": [
            "/usr/local/lib/python3.10/dist-packages/keras/src/engine/training.py:3103: UserWarning: You are saving your model as an HDF5 file via `model.save()`. This file format is considered legacy. We recommend using instead the native Keras format, e.g. `model.save('my_model.keras')`.\n",
            "  saving_api.save_model(\n",
            "\u001b[34m\u001b[1mwandb\u001b[0m: Adding directory to artifact (/content/wandb/run-20231221_210520-bwkae6ro/files/model-best)... Done. 0.0s\n"
          ]
        },
        {
          "output_type": "stream",
          "name": "stdout",
          "text": [
            "\b\b\b\b\b\b\b\b\b\b\b\b\b\b\b\b\b\b\b\b\b\b\b\b\b\b\b\b\b\b\b\b\b\b\b\b\b\b\b\b\b\b\b\b\b\b\b\b\b\b\b\b\b\b\b\b\b\b\b\b\b\b\b\b\b\b\b\b\b\b\b\b\b\b\b\b\b\b\b\b\r2/2 [==============================] - 10s 10s/step - loss: 2.9875 - accuracy: 0.1176 - val_loss: 3.1791 - val_accuracy: 0.0769\n",
            "Epoch 20/50\n",
            "2/2 [==============================] - ETA: 0s - loss: 3.0086 - accuracy: 0.1961"
          ]
        },
        {
          "output_type": "stream",
          "name": "stderr",
          "text": [
            "/usr/local/lib/python3.10/dist-packages/keras/src/engine/training.py:3103: UserWarning: You are saving your model as an HDF5 file via `model.save()`. This file format is considered legacy. We recommend using instead the native Keras format, e.g. `model.save('my_model.keras')`.\n",
            "  saving_api.save_model(\n",
            "\u001b[34m\u001b[1mwandb\u001b[0m: Adding directory to artifact (/content/wandb/run-20231221_210520-bwkae6ro/files/model-best)... Done. 0.0s\n"
          ]
        },
        {
          "output_type": "stream",
          "name": "stdout",
          "text": [
            "\b\b\b\b\b\b\b\b\b\b\b\b\b\b\b\b\b\b\b\b\b\b\b\b\b\b\b\b\b\b\b\b\b\b\b\b\b\b\b\b\b\b\b\b\b\b\b\b\b\b\b\b\b\b\b\b\b\b\b\b\b\b\b\b\b\b\b\b\b\b\b\b\b\b\b\b\b\b\b\b\r2/2 [==============================] - 7s 7s/step - loss: 3.0086 - accuracy: 0.1961 - val_loss: 3.1559 - val_accuracy: 0.1538\n",
            "Epoch 21/50\n",
            "2/2 [==============================] - ETA: 0s - loss: 2.8987 - accuracy: 0.2353"
          ]
        },
        {
          "output_type": "stream",
          "name": "stderr",
          "text": [
            "/usr/local/lib/python3.10/dist-packages/keras/src/engine/training.py:3103: UserWarning: You are saving your model as an HDF5 file via `model.save()`. This file format is considered legacy. We recommend using instead the native Keras format, e.g. `model.save('my_model.keras')`.\n",
            "  saving_api.save_model(\n",
            "\u001b[34m\u001b[1mwandb\u001b[0m: Adding directory to artifact (/content/wandb/run-20231221_210520-bwkae6ro/files/model-best)... Done. 0.0s\n"
          ]
        },
        {
          "output_type": "stream",
          "name": "stdout",
          "text": [
            "\b\b\b\b\b\b\b\b\b\b\b\b\b\b\b\b\b\b\b\b\b\b\b\b\b\b\b\b\b\b\b\b\b\b\b\b\b\b\b\b\b\b\b\b\b\b\b\b\b\b\b\b\b\b\b\b\b\b\b\b\b\b\b\b\b\b\b\b\b\b\b\b\b\b\b\b\b\b\b\b\r2/2 [==============================] - 12s 12s/step - loss: 2.8987 - accuracy: 0.2353 - val_loss: 3.1339 - val_accuracy: 0.1538\n",
            "Epoch 22/50\n",
            "2/2 [==============================] - ETA: 0s - loss: 2.7713 - accuracy: 0.3137"
          ]
        },
        {
          "output_type": "stream",
          "name": "stderr",
          "text": [
            "/usr/local/lib/python3.10/dist-packages/keras/src/engine/training.py:3103: UserWarning: You are saving your model as an HDF5 file via `model.save()`. This file format is considered legacy. We recommend using instead the native Keras format, e.g. `model.save('my_model.keras')`.\n",
            "  saving_api.save_model(\n",
            "\u001b[34m\u001b[1mwandb\u001b[0m: Adding directory to artifact (/content/wandb/run-20231221_210520-bwkae6ro/files/model-best)... Done. 0.0s\n"
          ]
        },
        {
          "output_type": "stream",
          "name": "stdout",
          "text": [
            "\b\b\b\b\b\b\b\b\b\b\b\b\b\b\b\b\b\b\b\b\b\b\b\b\b\b\b\b\b\b\b\b\b\b\b\b\b\b\b\b\b\b\b\b\b\b\b\b\b\b\b\b\b\b\b\b\b\b\b\b\b\b\b\b\b\b\b\b\b\b\b\b\b\b\b\b\b\b\b\b\r2/2 [==============================] - 8s 8s/step - loss: 2.7713 - accuracy: 0.3137 - val_loss: 3.1128 - val_accuracy: 0.1538\n",
            "Epoch 23/50\n",
            "2/2 [==============================] - ETA: 0s - loss: 2.8325 - accuracy: 0.2745"
          ]
        },
        {
          "output_type": "stream",
          "name": "stderr",
          "text": [
            "/usr/local/lib/python3.10/dist-packages/keras/src/engine/training.py:3103: UserWarning: You are saving your model as an HDF5 file via `model.save()`. This file format is considered legacy. We recommend using instead the native Keras format, e.g. `model.save('my_model.keras')`.\n",
            "  saving_api.save_model(\n",
            "\u001b[34m\u001b[1mwandb\u001b[0m: Adding directory to artifact (/content/wandb/run-20231221_210520-bwkae6ro/files/model-best)... Done. 0.0s\n"
          ]
        },
        {
          "output_type": "stream",
          "name": "stdout",
          "text": [
            "\b\b\b\b\b\b\b\b\b\b\b\b\b\b\b\b\b\b\b\b\b\b\b\b\b\b\b\b\b\b\b\b\b\b\b\b\b\b\b\b\b\b\b\b\b\b\b\b\b\b\b\b\b\b\b\b\b\b\b\b\b\b\b\b\b\b\b\b\b\b\b\b\b\b\b\b\b\b\b\b\r2/2 [==============================] - 9s 9s/step - loss: 2.8325 - accuracy: 0.2745 - val_loss: 3.0901 - val_accuracy: 0.1538\n",
            "Epoch 24/50\n",
            "2/2 [==============================] - ETA: 0s - loss: 2.8706 - accuracy: 0.1373"
          ]
        },
        {
          "output_type": "stream",
          "name": "stderr",
          "text": [
            "/usr/local/lib/python3.10/dist-packages/keras/src/engine/training.py:3103: UserWarning: You are saving your model as an HDF5 file via `model.save()`. This file format is considered legacy. We recommend using instead the native Keras format, e.g. `model.save('my_model.keras')`.\n",
            "  saving_api.save_model(\n",
            "\u001b[34m\u001b[1mwandb\u001b[0m: Adding directory to artifact (/content/wandb/run-20231221_210520-bwkae6ro/files/model-best)... Done. 0.0s\n"
          ]
        },
        {
          "output_type": "stream",
          "name": "stdout",
          "text": [
            "\b\b\b\b\b\b\b\b\b\b\b\b\b\b\b\b\b\b\b\b\b\b\b\b\b\b\b\b\b\b\b\b\b\b\b\b\b\b\b\b\b\b\b\b\b\b\b\b\b\b\b\b\b\b\b\b\b\b\b\b\b\b\b\b\b\b\b\b\b\b\b\b\b\b\b\b\b\b\b\b\r2/2 [==============================] - 10s 10s/step - loss: 2.8706 - accuracy: 0.1373 - val_loss: 3.0620 - val_accuracy: 0.2308\n",
            "Epoch 25/50\n",
            "2/2 [==============================] - ETA: 0s - loss: 2.6711 - accuracy: 0.3529"
          ]
        },
        {
          "output_type": "stream",
          "name": "stderr",
          "text": [
            "/usr/local/lib/python3.10/dist-packages/keras/src/engine/training.py:3103: UserWarning: You are saving your model as an HDF5 file via `model.save()`. This file format is considered legacy. We recommend using instead the native Keras format, e.g. `model.save('my_model.keras')`.\n",
            "  saving_api.save_model(\n",
            "\u001b[34m\u001b[1mwandb\u001b[0m: Adding directory to artifact (/content/wandb/run-20231221_210520-bwkae6ro/files/model-best)... Done. 0.0s\n"
          ]
        },
        {
          "output_type": "stream",
          "name": "stdout",
          "text": [
            "\b\b\b\b\b\b\b\b\b\b\b\b\b\b\b\b\b\b\b\b\b\b\b\b\b\b\b\b\b\b\b\b\b\b\b\b\b\b\b\b\b\b\b\b\b\b\b\b\b\b\b\b\b\b\b\b\b\b\b\b\b\b\b\b\b\b\b\b\b\b\b\b\b\b\b\b\b\b\b\b\r2/2 [==============================] - 10s 9s/step - loss: 2.6711 - accuracy: 0.3529 - val_loss: 3.0432 - val_accuracy: 0.2308\n",
            "Epoch 26/50\n",
            "2/2 [==============================] - ETA: 0s - loss: 2.6800 - accuracy: 0.3137"
          ]
        },
        {
          "output_type": "stream",
          "name": "stderr",
          "text": [
            "/usr/local/lib/python3.10/dist-packages/keras/src/engine/training.py:3103: UserWarning: You are saving your model as an HDF5 file via `model.save()`. This file format is considered legacy. We recommend using instead the native Keras format, e.g. `model.save('my_model.keras')`.\n",
            "  saving_api.save_model(\n",
            "\u001b[34m\u001b[1mwandb\u001b[0m: Adding directory to artifact (/content/wandb/run-20231221_210520-bwkae6ro/files/model-best)... Done. 0.0s\n"
          ]
        },
        {
          "output_type": "stream",
          "name": "stdout",
          "text": [
            "\b\b\b\b\b\b\b\b\b\b\b\b\b\b\b\b\b\b\b\b\b\b\b\b\b\b\b\b\b\b\b\b\b\b\b\b\b\b\b\b\b\b\b\b\b\b\b\b\b\b\b\b\b\b\b\b\b\b\b\b\b\b\b\b\b\b\b\b\b\b\b\b\b\b\b\b\b\b\b\b\r2/2 [==============================] - 10s 9s/step - loss: 2.6800 - accuracy: 0.3137 - val_loss: 3.0142 - val_accuracy: 0.2308\n",
            "Epoch 27/50\n",
            "2/2 [==============================] - ETA: 0s - loss: 2.5538 - accuracy: 0.3333"
          ]
        },
        {
          "output_type": "stream",
          "name": "stderr",
          "text": [
            "/usr/local/lib/python3.10/dist-packages/keras/src/engine/training.py:3103: UserWarning: You are saving your model as an HDF5 file via `model.save()`. This file format is considered legacy. We recommend using instead the native Keras format, e.g. `model.save('my_model.keras')`.\n",
            "  saving_api.save_model(\n",
            "\u001b[34m\u001b[1mwandb\u001b[0m: Adding directory to artifact (/content/wandb/run-20231221_210520-bwkae6ro/files/model-best)... Done. 0.0s\n"
          ]
        },
        {
          "output_type": "stream",
          "name": "stdout",
          "text": [
            "\b\b\b\b\b\b\b\b\b\b\b\b\b\b\b\b\b\b\b\b\b\b\b\b\b\b\b\b\b\b\b\b\b\b\b\b\b\b\b\b\b\b\b\b\b\b\b\b\b\b\b\b\b\b\b\b\b\b\b\b\b\b\b\b\b\b\b\b\b\b\b\b\b\b\b\b\b\b\b\b\r2/2 [==============================] - 8s 7s/step - loss: 2.5538 - accuracy: 0.3333 - val_loss: 2.9873 - val_accuracy: 0.2308\n",
            "Epoch 28/50\n",
            "2/2 [==============================] - ETA: 0s - loss: 2.5361 - accuracy: 0.4118"
          ]
        },
        {
          "output_type": "stream",
          "name": "stderr",
          "text": [
            "/usr/local/lib/python3.10/dist-packages/keras/src/engine/training.py:3103: UserWarning: You are saving your model as an HDF5 file via `model.save()`. This file format is considered legacy. We recommend using instead the native Keras format, e.g. `model.save('my_model.keras')`.\n",
            "  saving_api.save_model(\n",
            "\u001b[34m\u001b[1mwandb\u001b[0m: Adding directory to artifact (/content/wandb/run-20231221_210520-bwkae6ro/files/model-best)... Done. 0.0s\n"
          ]
        },
        {
          "output_type": "stream",
          "name": "stdout",
          "text": [
            "\b\b\b\b\b\b\b\b\b\b\b\b\b\b\b\b\b\b\b\b\b\b\b\b\b\b\b\b\b\b\b\b\b\b\b\b\b\b\b\b\b\b\b\b\b\b\b\b\b\b\b\b\b\b\b\b\b\b\b\b\b\b\b\b\b\b\b\b\b\b\b\b\b\b\b\b\b\b\b\b\r2/2 [==============================] - 10s 10s/step - loss: 2.5361 - accuracy: 0.4118 - val_loss: 2.9626 - val_accuracy: 0.2308\n",
            "Epoch 29/50\n",
            "2/2 [==============================] - ETA: 0s - loss: 2.4070 - accuracy: 0.3333"
          ]
        },
        {
          "output_type": "stream",
          "name": "stderr",
          "text": [
            "/usr/local/lib/python3.10/dist-packages/keras/src/engine/training.py:3103: UserWarning: You are saving your model as an HDF5 file via `model.save()`. This file format is considered legacy. We recommend using instead the native Keras format, e.g. `model.save('my_model.keras')`.\n",
            "  saving_api.save_model(\n",
            "\u001b[34m\u001b[1mwandb\u001b[0m: Adding directory to artifact (/content/wandb/run-20231221_210520-bwkae6ro/files/model-best)... Done. 0.0s\n"
          ]
        },
        {
          "output_type": "stream",
          "name": "stdout",
          "text": [
            "\b\b\b\b\b\b\b\b\b\b\b\b\b\b\b\b\b\b\b\b\b\b\b\b\b\b\b\b\b\b\b\b\b\b\b\b\b\b\b\b\b\b\b\b\b\b\b\b\b\b\b\b\b\b\b\b\b\b\b\b\b\b\b\b\b\b\b\b\b\b\b\b\b\b\b\b\b\b\b\b\r2/2 [==============================] - 9s 8s/step - loss: 2.4070 - accuracy: 0.3333 - val_loss: 2.9423 - val_accuracy: 0.2308\n",
            "Epoch 30/50\n",
            "2/2 [==============================] - ETA: 0s - loss: 2.4813 - accuracy: 0.3529"
          ]
        },
        {
          "output_type": "stream",
          "name": "stderr",
          "text": [
            "/usr/local/lib/python3.10/dist-packages/keras/src/engine/training.py:3103: UserWarning: You are saving your model as an HDF5 file via `model.save()`. This file format is considered legacy. We recommend using instead the native Keras format, e.g. `model.save('my_model.keras')`.\n",
            "  saving_api.save_model(\n",
            "\u001b[34m\u001b[1mwandb\u001b[0m: Adding directory to artifact (/content/wandb/run-20231221_210520-bwkae6ro/files/model-best)... Done. 0.0s\n"
          ]
        },
        {
          "output_type": "stream",
          "name": "stdout",
          "text": [
            "\b\b\b\b\b\b\b\b\b\b\b\b\b\b\b\b\b\b\b\b\b\b\b\b\b\b\b\b\b\b\b\b\b\b\b\b\b\b\b\b\b\b\b\b\b\b\b\b\b\b\b\b\b\b\b\b\b\b\b\b\b\b\b\b\b\b\b\b\b\b\b\b\b\b\b\b\b\b\b\b\r2/2 [==============================] - 9s 9s/step - loss: 2.4813 - accuracy: 0.3529 - val_loss: 2.9310 - val_accuracy: 0.3077\n",
            "Epoch 31/50\n",
            "2/2 [==============================] - ETA: 0s - loss: 2.4861 - accuracy: 0.3137"
          ]
        },
        {
          "output_type": "stream",
          "name": "stderr",
          "text": [
            "/usr/local/lib/python3.10/dist-packages/keras/src/engine/training.py:3103: UserWarning: You are saving your model as an HDF5 file via `model.save()`. This file format is considered legacy. We recommend using instead the native Keras format, e.g. `model.save('my_model.keras')`.\n",
            "  saving_api.save_model(\n",
            "\u001b[34m\u001b[1mwandb\u001b[0m: Adding directory to artifact (/content/wandb/run-20231221_210520-bwkae6ro/files/model-best)... Done. 0.0s\n"
          ]
        },
        {
          "output_type": "stream",
          "name": "stdout",
          "text": [
            "\b\b\b\b\b\b\b\b\b\b\b\b\b\b\b\b\b\b\b\b\b\b\b\b\b\b\b\b\b\b\b\b\b\b\b\b\b\b\b\b\b\b\b\b\b\b\b\b\b\b\b\b\b\b\b\b\b\b\b\b\b\b\b\b\b\b\b\b\b\b\b\b\b\b\b\b\b\b\b\b\r2/2 [==============================] - 9s 9s/step - loss: 2.4861 - accuracy: 0.3137 - val_loss: 2.9137 - val_accuracy: 0.3077\n",
            "Epoch 32/50\n",
            "2/2 [==============================] - ETA: 0s - loss: 2.3382 - accuracy: 0.3922"
          ]
        },
        {
          "output_type": "stream",
          "name": "stderr",
          "text": [
            "/usr/local/lib/python3.10/dist-packages/keras/src/engine/training.py:3103: UserWarning: You are saving your model as an HDF5 file via `model.save()`. This file format is considered legacy. We recommend using instead the native Keras format, e.g. `model.save('my_model.keras')`.\n",
            "  saving_api.save_model(\n",
            "\u001b[34m\u001b[1mwandb\u001b[0m: Adding directory to artifact (/content/wandb/run-20231221_210520-bwkae6ro/files/model-best)... Done. 0.0s\n"
          ]
        },
        {
          "output_type": "stream",
          "name": "stdout",
          "text": [
            "\b\b\b\b\b\b\b\b\b\b\b\b\b\b\b\b\b\b\b\b\b\b\b\b\b\b\b\b\b\b\b\b\b\b\b\b\b\b\b\b\b\b\b\b\b\b\b\b\b\b\b\b\b\b\b\b\b\b\b\b\b\b\b\b\b\b\b\b\b\b\b\b\b\b\b\b\b\b\b\b\r2/2 [==============================] - 8s 8s/step - loss: 2.3382 - accuracy: 0.3922 - val_loss: 2.8728 - val_accuracy: 0.3077\n",
            "Epoch 33/50\n",
            "2/2 [==============================] - ETA: 0s - loss: 2.2430 - accuracy: 0.3529"
          ]
        },
        {
          "output_type": "stream",
          "name": "stderr",
          "text": [
            "/usr/local/lib/python3.10/dist-packages/keras/src/engine/training.py:3103: UserWarning: You are saving your model as an HDF5 file via `model.save()`. This file format is considered legacy. We recommend using instead the native Keras format, e.g. `model.save('my_model.keras')`.\n",
            "  saving_api.save_model(\n",
            "\u001b[34m\u001b[1mwandb\u001b[0m: Adding directory to artifact (/content/wandb/run-20231221_210520-bwkae6ro/files/model-best)... Done. 0.0s\n"
          ]
        },
        {
          "output_type": "stream",
          "name": "stdout",
          "text": [
            "\b\b\b\b\b\b\b\b\b\b\b\b\b\b\b\b\b\b\b\b\b\b\b\b\b\b\b\b\b\b\b\b\b\b\b\b\b\b\b\b\b\b\b\b\b\b\b\b\b\b\b\b\b\b\b\b\b\b\b\b\b\b\b\b\b\b\b\b\b\b\b\b\b\b\b\b\b\b\b\b\r2/2 [==============================] - 9s 9s/step - loss: 2.2430 - accuracy: 0.3529 - val_loss: 2.8500 - val_accuracy: 0.3077\n",
            "Epoch 34/50\n",
            "2/2 [==============================] - ETA: 0s - loss: 2.0940 - accuracy: 0.5098"
          ]
        },
        {
          "output_type": "stream",
          "name": "stderr",
          "text": [
            "/usr/local/lib/python3.10/dist-packages/keras/src/engine/training.py:3103: UserWarning: You are saving your model as an HDF5 file via `model.save()`. This file format is considered legacy. We recommend using instead the native Keras format, e.g. `model.save('my_model.keras')`.\n",
            "  saving_api.save_model(\n",
            "\u001b[34m\u001b[1mwandb\u001b[0m: Adding directory to artifact (/content/wandb/run-20231221_210520-bwkae6ro/files/model-best)... Done. 0.0s\n"
          ]
        },
        {
          "output_type": "stream",
          "name": "stdout",
          "text": [
            "\b\b\b\b\b\b\b\b\b\b\b\b\b\b\b\b\b\b\b\b\b\b\b\b\b\b\b\b\b\b\b\b\b\b\b\b\b\b\b\b\b\b\b\b\b\b\b\b\b\b\b\b\b\b\b\b\b\b\b\b\b\b\b\b\b\b\b\b\b\b\b\b\b\b\b\b\b\b\b\b\r2/2 [==============================] - 9s 9s/step - loss: 2.0940 - accuracy: 0.5098 - val_loss: 2.8356 - val_accuracy: 0.3077\n",
            "Epoch 35/50\n",
            "2/2 [==============================] - ETA: 0s - loss: 2.2390 - accuracy: 0.4706"
          ]
        },
        {
          "output_type": "stream",
          "name": "stderr",
          "text": [
            "/usr/local/lib/python3.10/dist-packages/keras/src/engine/training.py:3103: UserWarning: You are saving your model as an HDF5 file via `model.save()`. This file format is considered legacy. We recommend using instead the native Keras format, e.g. `model.save('my_model.keras')`.\n",
            "  saving_api.save_model(\n",
            "\u001b[34m\u001b[1mwandb\u001b[0m: Adding directory to artifact (/content/wandb/run-20231221_210520-bwkae6ro/files/model-best)... Done. 0.0s\n"
          ]
        },
        {
          "output_type": "stream",
          "name": "stdout",
          "text": [
            "\b\b\b\b\b\b\b\b\b\b\b\b\b\b\b\b\b\b\b\b\b\b\b\b\b\b\b\b\b\b\b\b\b\b\b\b\b\b\b\b\b\b\b\b\b\b\b\b\b\b\b\b\b\b\b\b\b\b\b\b\b\b\b\b\b\b\b\b\b\b\b\b\b\b\b\b\b\b\b\b\r2/2 [==============================] - 12s 12s/step - loss: 2.2390 - accuracy: 0.4706 - val_loss: 2.8083 - val_accuracy: 0.3077\n",
            "Epoch 36/50\n",
            "2/2 [==============================] - ETA: 0s - loss: 2.1069 - accuracy: 0.4706"
          ]
        },
        {
          "output_type": "stream",
          "name": "stderr",
          "text": [
            "/usr/local/lib/python3.10/dist-packages/keras/src/engine/training.py:3103: UserWarning: You are saving your model as an HDF5 file via `model.save()`. This file format is considered legacy. We recommend using instead the native Keras format, e.g. `model.save('my_model.keras')`.\n",
            "  saving_api.save_model(\n",
            "\u001b[34m\u001b[1mwandb\u001b[0m: Adding directory to artifact (/content/wandb/run-20231221_210520-bwkae6ro/files/model-best)... Done. 0.0s\n"
          ]
        },
        {
          "output_type": "stream",
          "name": "stdout",
          "text": [
            "\b\b\b\b\b\b\b\b\b\b\b\b\b\b\b\b\b\b\b\b\b\b\b\b\b\b\b\b\b\b\b\b\b\b\b\b\b\b\b\b\b\b\b\b\b\b\b\b\b\b\b\b\b\b\b\b\b\b\b\b\b\b\b\b\b\b\b\b\b\b\b\b\b\b\b\b\b\b\b\b\r2/2 [==============================] - 7s 7s/step - loss: 2.1069 - accuracy: 0.4706 - val_loss: 2.7885 - val_accuracy: 0.3077\n",
            "Epoch 37/50\n",
            "2/2 [==============================] - ETA: 0s - loss: 2.0159 - accuracy: 0.4314"
          ]
        },
        {
          "output_type": "stream",
          "name": "stderr",
          "text": [
            "/usr/local/lib/python3.10/dist-packages/keras/src/engine/training.py:3103: UserWarning: You are saving your model as an HDF5 file via `model.save()`. This file format is considered legacy. We recommend using instead the native Keras format, e.g. `model.save('my_model.keras')`.\n",
            "  saving_api.save_model(\n",
            "\u001b[34m\u001b[1mwandb\u001b[0m: Adding directory to artifact (/content/wandb/run-20231221_210520-bwkae6ro/files/model-best)... Done. 0.0s\n"
          ]
        },
        {
          "output_type": "stream",
          "name": "stdout",
          "text": [
            "\b\b\b\b\b\b\b\b\b\b\b\b\b\b\b\b\b\b\b\b\b\b\b\b\b\b\b\b\b\b\b\b\b\b\b\b\b\b\b\b\b\b\b\b\b\b\b\b\b\b\b\b\b\b\b\b\b\b\b\b\b\b\b\b\b\b\b\b\b\b\b\b\b\b\b\b\b\b\b\b\r2/2 [==============================] - 10s 10s/step - loss: 2.0159 - accuracy: 0.4314 - val_loss: 2.7787 - val_accuracy: 0.3077\n",
            "Epoch 38/50\n",
            "2/2 [==============================] - ETA: 0s - loss: 2.1039 - accuracy: 0.4510"
          ]
        },
        {
          "output_type": "stream",
          "name": "stderr",
          "text": [
            "/usr/local/lib/python3.10/dist-packages/keras/src/engine/training.py:3103: UserWarning: You are saving your model as an HDF5 file via `model.save()`. This file format is considered legacy. We recommend using instead the native Keras format, e.g. `model.save('my_model.keras')`.\n",
            "  saving_api.save_model(\n",
            "\u001b[34m\u001b[1mwandb\u001b[0m: Adding directory to artifact (/content/wandb/run-20231221_210520-bwkae6ro/files/model-best)... Done. 0.0s\n"
          ]
        },
        {
          "output_type": "stream",
          "name": "stdout",
          "text": [
            "\b\b\b\b\b\b\b\b\b\b\b\b\b\b\b\b\b\b\b\b\b\b\b\b\b\b\b\b\b\b\b\b\b\b\b\b\b\b\b\b\b\b\b\b\b\b\b\b\b\b\b\b\b\b\b\b\b\b\b\b\b\b\b\b\b\b\b\b\b\b\b\b\b\b\b\b\b\b\b\b\r2/2 [==============================] - 8s 8s/step - loss: 2.1039 - accuracy: 0.4510 - val_loss: 2.7520 - val_accuracy: 0.3077\n",
            "Epoch 39/50\n",
            "2/2 [==============================] - ETA: 0s - loss: 1.8819 - accuracy: 0.4314"
          ]
        },
        {
          "output_type": "stream",
          "name": "stderr",
          "text": [
            "/usr/local/lib/python3.10/dist-packages/keras/src/engine/training.py:3103: UserWarning: You are saving your model as an HDF5 file via `model.save()`. This file format is considered legacy. We recommend using instead the native Keras format, e.g. `model.save('my_model.keras')`.\n",
            "  saving_api.save_model(\n",
            "\u001b[34m\u001b[1mwandb\u001b[0m: Adding directory to artifact (/content/wandb/run-20231221_210520-bwkae6ro/files/model-best)... Done. 0.0s\n"
          ]
        },
        {
          "output_type": "stream",
          "name": "stdout",
          "text": [
            "\b\b\b\b\b\b\b\b\b\b\b\b\b\b\b\b\b\b\b\b\b\b\b\b\b\b\b\b\b\b\b\b\b\b\b\b\b\b\b\b\b\b\b\b\b\b\b\b\b\b\b\b\b\b\b\b\b\b\b\b\b\b\b\b\b\b\b\b\b\b\b\b\b\b\b\b\b\b\b\b\r2/2 [==============================] - 9s 9s/step - loss: 1.8819 - accuracy: 0.4314 - val_loss: 2.7193 - val_accuracy: 0.3846\n",
            "Epoch 40/50\n",
            "2/2 [==============================] - ETA: 0s - loss: 1.9965 - accuracy: 0.5490"
          ]
        },
        {
          "output_type": "stream",
          "name": "stderr",
          "text": [
            "/usr/local/lib/python3.10/dist-packages/keras/src/engine/training.py:3103: UserWarning: You are saving your model as an HDF5 file via `model.save()`. This file format is considered legacy. We recommend using instead the native Keras format, e.g. `model.save('my_model.keras')`.\n",
            "  saving_api.save_model(\n",
            "\u001b[34m\u001b[1mwandb\u001b[0m: Adding directory to artifact (/content/wandb/run-20231221_210520-bwkae6ro/files/model-best)... Done. 0.0s\n"
          ]
        },
        {
          "output_type": "stream",
          "name": "stdout",
          "text": [
            "\b\b\b\b\b\b\b\b\b\b\b\b\b\b\b\b\b\b\b\b\b\b\b\b\b\b\b\b\b\b\b\b\b\b\b\b\b\b\b\b\b\b\b\b\b\b\b\b\b\b\b\b\b\b\b\b\b\b\b\b\b\b\b\b\b\b\b\b\b\b\b\b\b\b\b\b\b\b\b\b\r2/2 [==============================] - 9s 9s/step - loss: 1.9965 - accuracy: 0.5490 - val_loss: 2.6764 - val_accuracy: 0.3846\n",
            "Epoch 41/50\n",
            "2/2 [==============================] - ETA: 0s - loss: 1.8592 - accuracy: 0.4118"
          ]
        },
        {
          "output_type": "stream",
          "name": "stderr",
          "text": [
            "/usr/local/lib/python3.10/dist-packages/keras/src/engine/training.py:3103: UserWarning: You are saving your model as an HDF5 file via `model.save()`. This file format is considered legacy. We recommend using instead the native Keras format, e.g. `model.save('my_model.keras')`.\n",
            "  saving_api.save_model(\n",
            "\u001b[34m\u001b[1mwandb\u001b[0m: Adding directory to artifact (/content/wandb/run-20231221_210520-bwkae6ro/files/model-best)... Done. 0.0s\n"
          ]
        },
        {
          "output_type": "stream",
          "name": "stdout",
          "text": [
            "\b\b\b\b\b\b\b\b\b\b\b\b\b\b\b\b\b\b\b\b\b\b\b\b\b\b\b\b\b\b\b\b\b\b\b\b\b\b\b\b\b\b\b\b\b\b\b\b\b\b\b\b\b\b\b\b\b\b\b\b\b\b\b\b\b\b\b\b\b\b\b\b\b\b\b\b\b\b\b\b\r2/2 [==============================] - 8s 8s/step - loss: 1.8592 - accuracy: 0.4118 - val_loss: 2.6352 - val_accuracy: 0.3077\n",
            "Epoch 42/50\n",
            "2/2 [==============================] - ETA: 0s - loss: 1.7305 - accuracy: 0.4902"
          ]
        },
        {
          "output_type": "stream",
          "name": "stderr",
          "text": [
            "/usr/local/lib/python3.10/dist-packages/keras/src/engine/training.py:3103: UserWarning: You are saving your model as an HDF5 file via `model.save()`. This file format is considered legacy. We recommend using instead the native Keras format, e.g. `model.save('my_model.keras')`.\n",
            "  saving_api.save_model(\n",
            "\u001b[34m\u001b[1mwandb\u001b[0m: Adding directory to artifact (/content/wandb/run-20231221_210520-bwkae6ro/files/model-best)... Done. 0.0s\n"
          ]
        },
        {
          "output_type": "stream",
          "name": "stdout",
          "text": [
            "\b\b\b\b\b\b\b\b\b\b\b\b\b\b\b\b\b\b\b\b\b\b\b\b\b\b\b\b\b\b\b\b\b\b\b\b\b\b\b\b\b\b\b\b\b\b\b\b\b\b\b\b\b\b\b\b\b\b\b\b\b\b\b\b\b\b\b\b\b\b\b\b\b\b\b\b\b\b\b\b\r2/2 [==============================] - 9s 9s/step - loss: 1.7305 - accuracy: 0.4902 - val_loss: 2.5983 - val_accuracy: 0.3077\n",
            "Epoch 43/50\n",
            "2/2 [==============================] - ETA: 0s - loss: 1.8326 - accuracy: 0.5490"
          ]
        },
        {
          "output_type": "stream",
          "name": "stderr",
          "text": [
            "/usr/local/lib/python3.10/dist-packages/keras/src/engine/training.py:3103: UserWarning: You are saving your model as an HDF5 file via `model.save()`. This file format is considered legacy. We recommend using instead the native Keras format, e.g. `model.save('my_model.keras')`.\n",
            "  saving_api.save_model(\n",
            "\u001b[34m\u001b[1mwandb\u001b[0m: Adding directory to artifact (/content/wandb/run-20231221_210520-bwkae6ro/files/model-best)... Done. 0.0s\n"
          ]
        },
        {
          "output_type": "stream",
          "name": "stdout",
          "text": [
            "\b\b\b\b\b\b\b\b\b\b\b\b\b\b\b\b\b\b\b\b\b\b\b\b\b\b\b\b\b\b\b\b\b\b\b\b\b\b\b\b\b\b\b\b\b\b\b\b\b\b\b\b\b\b\b\b\b\b\b\b\b\b\b\b\b\b\b\b\b\b\b\b\b\b\b\b\b\b\b\b\r2/2 [==============================] - 8s 8s/step - loss: 1.8326 - accuracy: 0.5490 - val_loss: 2.5613 - val_accuracy: 0.3077\n",
            "Epoch 44/50\n",
            "2/2 [==============================] - ETA: 0s - loss: 1.7478 - accuracy: 0.4902"
          ]
        },
        {
          "output_type": "stream",
          "name": "stderr",
          "text": [
            "/usr/local/lib/python3.10/dist-packages/keras/src/engine/training.py:3103: UserWarning: You are saving your model as an HDF5 file via `model.save()`. This file format is considered legacy. We recommend using instead the native Keras format, e.g. `model.save('my_model.keras')`.\n",
            "  saving_api.save_model(\n",
            "\u001b[34m\u001b[1mwandb\u001b[0m: Adding directory to artifact (/content/wandb/run-20231221_210520-bwkae6ro/files/model-best)... Done. 0.0s\n"
          ]
        },
        {
          "output_type": "stream",
          "name": "stdout",
          "text": [
            "\b\b\b\b\b\b\b\b\b\b\b\b\b\b\b\b\b\b\b\b\b\b\b\b\b\b\b\b\b\b\b\b\b\b\b\b\b\b\b\b\b\b\b\b\b\b\b\b\b\b\b\b\b\b\b\b\b\b\b\b\b\b\b\b\b\b\b\b\b\b\b\b\b\b\b\b\b\b\b\b\r2/2 [==============================] - 9s 9s/step - loss: 1.7478 - accuracy: 0.4902 - val_loss: 2.5275 - val_accuracy: 0.3077\n",
            "Epoch 45/50\n",
            "2/2 [==============================] - ETA: 0s - loss: 1.6677 - accuracy: 0.5098"
          ]
        },
        {
          "output_type": "stream",
          "name": "stderr",
          "text": [
            "/usr/local/lib/python3.10/dist-packages/keras/src/engine/training.py:3103: UserWarning: You are saving your model as an HDF5 file via `model.save()`. This file format is considered legacy. We recommend using instead the native Keras format, e.g. `model.save('my_model.keras')`.\n",
            "  saving_api.save_model(\n",
            "\u001b[34m\u001b[1mwandb\u001b[0m: Adding directory to artifact (/content/wandb/run-20231221_210520-bwkae6ro/files/model-best)... Done. 0.0s\n"
          ]
        },
        {
          "output_type": "stream",
          "name": "stdout",
          "text": [
            "\b\b\b\b\b\b\b\b\b\b\b\b\b\b\b\b\b\b\b\b\b\b\b\b\b\b\b\b\b\b\b\b\b\b\b\b\b\b\b\b\b\b\b\b\b\b\b\b\b\b\b\b\b\b\b\b\b\b\b\b\b\b\b\b\b\b\b\b\b\b\b\b\b\b\b\b\b\b\b\b\r2/2 [==============================] - 8s 8s/step - loss: 1.6677 - accuracy: 0.5098 - val_loss: 2.5157 - val_accuracy: 0.3077\n",
            "Epoch 46/50\n",
            "2/2 [==============================] - ETA: 0s - loss: 1.5983 - accuracy: 0.6275"
          ]
        },
        {
          "output_type": "stream",
          "name": "stderr",
          "text": [
            "/usr/local/lib/python3.10/dist-packages/keras/src/engine/training.py:3103: UserWarning: You are saving your model as an HDF5 file via `model.save()`. This file format is considered legacy. We recommend using instead the native Keras format, e.g. `model.save('my_model.keras')`.\n",
            "  saving_api.save_model(\n",
            "\u001b[34m\u001b[1mwandb\u001b[0m: Adding directory to artifact (/content/wandb/run-20231221_210520-bwkae6ro/files/model-best)... Done. 0.0s\n"
          ]
        },
        {
          "output_type": "stream",
          "name": "stdout",
          "text": [
            "\b\b\b\b\b\b\b\b\b\b\b\b\b\b\b\b\b\b\b\b\b\b\b\b\b\b\b\b\b\b\b\b\b\b\b\b\b\b\b\b\b\b\b\b\b\b\b\b\b\b\b\b\b\b\b\b\b\b\b\b\b\b\b\b\b\b\b\b\b\b\b\b\b\b\b\b\b\b\b\b\r2/2 [==============================] - 9s 9s/step - loss: 1.5983 - accuracy: 0.6275 - val_loss: 2.4801 - val_accuracy: 0.3077\n",
            "Epoch 47/50\n",
            "2/2 [==============================] - ETA: 0s - loss: 1.5916 - accuracy: 0.5686"
          ]
        },
        {
          "output_type": "stream",
          "name": "stderr",
          "text": [
            "/usr/local/lib/python3.10/dist-packages/keras/src/engine/training.py:3103: UserWarning: You are saving your model as an HDF5 file via `model.save()`. This file format is considered legacy. We recommend using instead the native Keras format, e.g. `model.save('my_model.keras')`.\n",
            "  saving_api.save_model(\n",
            "\u001b[34m\u001b[1mwandb\u001b[0m: Adding directory to artifact (/content/wandb/run-20231221_210520-bwkae6ro/files/model-best)... Done. 0.0s\n"
          ]
        },
        {
          "output_type": "stream",
          "name": "stdout",
          "text": [
            "\b\b\b\b\b\b\b\b\b\b\b\b\b\b\b\b\b\b\b\b\b\b\b\b\b\b\b\b\b\b\b\b\b\b\b\b\b\b\b\b\b\b\b\b\b\b\b\b\b\b\b\b\b\b\b\b\b\b\b\b\b\b\b\b\b\b\b\b\b\b\b\b\b\b\b\b\b\b\b\b\r2/2 [==============================] - 9s 9s/step - loss: 1.5916 - accuracy: 0.5686 - val_loss: 2.4536 - val_accuracy: 0.3077\n",
            "Epoch 48/50\n",
            "2/2 [==============================] - ETA: 0s - loss: 1.6008 - accuracy: 0.5294"
          ]
        },
        {
          "output_type": "stream",
          "name": "stderr",
          "text": [
            "/usr/local/lib/python3.10/dist-packages/keras/src/engine/training.py:3103: UserWarning: You are saving your model as an HDF5 file via `model.save()`. This file format is considered legacy. We recommend using instead the native Keras format, e.g. `model.save('my_model.keras')`.\n",
            "  saving_api.save_model(\n",
            "\u001b[34m\u001b[1mwandb\u001b[0m: Adding directory to artifact (/content/wandb/run-20231221_210520-bwkae6ro/files/model-best)... Done. 0.0s\n"
          ]
        },
        {
          "output_type": "stream",
          "name": "stdout",
          "text": [
            "\b\b\b\b\b\b\b\b\b\b\b\b\b\b\b\b\b\b\b\b\b\b\b\b\b\b\b\b\b\b\b\b\b\b\b\b\b\b\b\b\b\b\b\b\b\b\b\b\b\b\b\b\b\b\b\b\b\b\b\b\b\b\b\b\b\b\b\b\b\b\b\b\b\b\b\b\b\b\b\b\r2/2 [==============================] - 8s 8s/step - loss: 1.6008 - accuracy: 0.5294 - val_loss: 2.4278 - val_accuracy: 0.3846\n",
            "Epoch 49/50\n",
            "2/2 [==============================] - ETA: 0s - loss: 1.4018 - accuracy: 0.6275"
          ]
        },
        {
          "output_type": "stream",
          "name": "stderr",
          "text": [
            "/usr/local/lib/python3.10/dist-packages/keras/src/engine/training.py:3103: UserWarning: You are saving your model as an HDF5 file via `model.save()`. This file format is considered legacy. We recommend using instead the native Keras format, e.g. `model.save('my_model.keras')`.\n",
            "  saving_api.save_model(\n",
            "\u001b[34m\u001b[1mwandb\u001b[0m: Adding directory to artifact (/content/wandb/run-20231221_210520-bwkae6ro/files/model-best)... Done. 0.0s\n"
          ]
        },
        {
          "output_type": "stream",
          "name": "stdout",
          "text": [
            "\b\b\b\b\b\b\b\b\b\b\b\b\b\b\b\b\b\b\b\b\b\b\b\b\b\b\b\b\b\b\b\b\b\b\b\b\b\b\b\b\b\b\b\b\b\b\b\b\b\b\b\b\b\b\b\b\b\b\b\b\b\b\b\b\b\b\b\b\b\b\b\b\b\b\b\b\b\b\b\b\r2/2 [==============================] - 9s 9s/step - loss: 1.4018 - accuracy: 0.6275 - val_loss: 2.4044 - val_accuracy: 0.3846\n",
            "Epoch 50/50\n",
            "2/2 [==============================] - ETA: 0s - loss: 1.5618 - accuracy: 0.5098"
          ]
        },
        {
          "output_type": "stream",
          "name": "stderr",
          "text": [
            "/usr/local/lib/python3.10/dist-packages/keras/src/engine/training.py:3103: UserWarning: You are saving your model as an HDF5 file via `model.save()`. This file format is considered legacy. We recommend using instead the native Keras format, e.g. `model.save('my_model.keras')`.\n",
            "  saving_api.save_model(\n",
            "\u001b[34m\u001b[1mwandb\u001b[0m: Adding directory to artifact (/content/wandb/run-20231221_210520-bwkae6ro/files/model-best)... Done. 0.0s\n"
          ]
        },
        {
          "output_type": "stream",
          "name": "stdout",
          "text": [
            "\b\b\b\b\b\b\b\b\b\b\b\b\b\b\b\b\b\b\b\b\b\b\b\b\b\b\b\b\b\b\b\b\b\b\b\b\b\b\b\b\b\b\b\b\b\b\b\b\b\b\b\b\b\b\b\b\b\b\b\b\b\b\b\b\b\b\b\b\b\b\b\b\b\b\b\b\b\b\b\b\r2/2 [==============================] - 8s 8s/step - loss: 1.5618 - accuracy: 0.5098 - val_loss: 2.3997 - val_accuracy: 0.3846\n"
          ]
        },
        {
          "output_type": "execute_result",
          "data": {
            "text/plain": [
              "<keras.src.callbacks.History at 0x7d00a2937f10>"
            ]
          },
          "metadata": {},
          "execution_count": 12
        }
      ]
    },
    {
      "cell_type": "code",
      "source": [
        "def define_eval_dev_paths(base_path='/content/drive/My Drive/ML Audio/Test Data'):\n",
        "    eval_path = os.path.join(base_path, 'eval')\n",
        "    dev_path = os.path.join(base_path, 'dev')\n",
        "    return eval_path, dev_path"
      ],
      "metadata": {
        "id": "gpklRZjUyrRo"
      },
      "execution_count": null,
      "outputs": []
    },
    {
      "cell_type": "code",
      "source": [
        "import os\n",
        "import numpy as np\n",
        "\n",
        "def load_eval_data(path, eval_labels):\n",
        "    X = []\n",
        "    y = []\n",
        "    for label in eval_labels:\n",
        "        label_path = os.path.join(path, label)\n",
        "        label_files = [f for f in os.listdir(label_path) if f.endswith('.npy')]\n",
        "        for file in label_files:\n",
        "            mfcc_vectors = np.load(os.path.join(label_path, file))\n",
        "            X.extend(mfcc_vectors)\n",
        "            y.extend([label] * len(mfcc_vectors))\n",
        "    X = np.array(X)\n",
        "    y = np.array(y)\n",
        "    return X, y\n",
        "\n",
        "def load_dev_data(path, dev_labels):\n",
        "    X = []\n",
        "    y = []\n",
        "    for label in dev_labels:\n",
        "        label_path = os.path.join(path, label)\n",
        "        label_files = [f for f in os.listdir(label_path) if f.endswith('.npy')]\n",
        "        for file in label_files:\n",
        "            mfcc_vectors = np.load(os.path.join(label_path, file))\n",
        "            X.extend(mfcc_vectors)\n",
        "            y.extend([label] * len(mfcc_vectors))\n",
        "    X = np.array(X)\n",
        "    y = np.array(y)\n",
        "    return X, y"
      ],
      "metadata": {
        "id": "3MwFxuOzXhpd"
      },
      "execution_count": null,
      "outputs": []
    },
    {
      "cell_type": "code",
      "source": [
        "def define_eval_dev_paths(base_path='/content/drive/My Drive/ML Audio/Test Data'):\n",
        "    eval_path = os.path.join(base_path, 'eval')\n",
        "    dev_path = os.path.join(base_path, 'dev')\n",
        "    return eval_path, dev_path\n",
        "\n",
        "# Call the function and assign the paths\n",
        "eval_path, dev_path = define_eval_dev_paths()\n",
        "\n",
        "eval_labels = [\"P01\", \"P02\", \"P03\", \"P04\"]\n",
        "dev_labels = [\"P05\", \"P06\", \"P07\", \"P08\"]\n",
        "\n",
        "# Assuming you have functions load_eval_data and load_dev_data defined somewhere\n",
        "X_eval, y_eval = load_eval_data(eval_path, eval_labels)\n",
        "X_dev, y_dev = load_dev_data(dev_path, dev_labels)"
      ],
      "metadata": {
        "id": "aQnKZ0XPXkMp"
      },
      "execution_count": null,
      "outputs": []
    },
    {
      "cell_type": "code",
      "source": [
        "def save_dev_data_to_array(path, labels, max_len=11, n_mfcc=20):\n",
        "    for label in labels:\n",
        "        label_path = os.path.join(path, label)\n",
        "        mfcc_vectors = []\n",
        "        wavfiles = [os.path.join(label_path, wavfile) for wavfile in os.listdir(label_path) if wavfile.endswith('.wav')]\n",
        "        for wavfile in tqdm(wavfiles, \"Saving vectors of label - '{}'\".format(label)):\n",
        "            mfcc = wav2mfcc_multi_channel(wavfile, max_len=max_len, n_mfcc=n_mfcc)\n",
        "            mfcc_vectors.append(mfcc)\n",
        "        np.save(os.path.join(label_path, label + '.npy'), mfcc_vectors)\n",
        "\n",
        "save_dev_data_to_array(dev_path, dev_labels)"
      ],
      "metadata": {
        "colab": {
          "base_uri": "https://localhost:8080/"
        },
        "id": "MUS2cRp1ZcR2",
        "outputId": "39ffc8f9-7bcd-4e06-e858-6abae5fac682"
      },
      "execution_count": null,
      "outputs": [
        {
          "output_type": "stream",
          "name": "stderr",
          "text": [
            "Saving vectors of label - 'P05': 100%|██████████| 1/1 [00:00<00:00,  1.32it/s]\n",
            "Saving vectors of label - 'P06': 100%|██████████| 1/1 [00:01<00:00,  1.03s/it]\n",
            "Saving vectors of label - 'P07': 100%|██████████| 1/1 [00:00<00:00,  1.49it/s]\n",
            "Saving vectors of label - 'P08': 100%|██████████| 1/1 [00:00<00:00,  1.35it/s]\n"
          ]
        }
      ]
    },
    {
      "cell_type": "code",
      "source": [
        "from keras.models import Model\n",
        "from keras.layers import Dense\n",
        "\n",
        "def adjust_model_output_layer(base_model, num_classes):\n",
        "    # Create a new model, reusing all layers of the base_model except the output layer\n",
        "    new_model = Sequential()\n",
        "    for layer in base_model.layers[:-1]:  # Exclude the last layer\n",
        "        new_model.add(layer)\n",
        "\n",
        "    # Make sure to set these layers as non-trainable if you're not planning to retrain the model\n",
        "    for layer in new_model.layers:\n",
        "        layer.trainable = False\n",
        "\n",
        "    # Add new output layer\n",
        "    new_model.add(Dense(num_classes, activation='softmax'))\n",
        "\n",
        "    # Compile the new model\n",
        "    new_model.compile(optimizer='adam', loss='categorical_crossentropy', metrics=['accuracy'])\n",
        "\n",
        "    return new_model\n",
        "\n",
        "    # Adjust the model for 4 classes (for dev and eval datasets)\n",
        "model_for_dev_eval = adjust_model_output_layer(model, 4)\n",
        "\n",
        "# Create label-to-index mappings for dev and eval datasets\n",
        "eval_label_to_index = {label: idx for idx, label in enumerate(eval_labels)}\n",
        "dev_label_to_index = {label: idx for idx, label in enumerate(dev_labels)}\n",
        "\n",
        "# Convert the labels in y_eval and y_dev to indices using the respective mappings\n",
        "y_eval_indices = np.array([eval_label_to_index[label] for label in y_eval])\n",
        "y_dev_indices = np.array([dev_label_to_index[label] for label in y_dev])\n",
        "\n",
        "\n",
        "# One-hot encode y_dev and y_eval\n",
        "y_dev_hot = to_categorical(y_dev_indices, num_classes=4)\n",
        "y_eval_hot = to_categorical(y_eval_indices, num_classes=4)\n",
        "\n",
        "# Evaluate on dev and eval datasets\n",
        "dev_loss, dev_accuracy = model_for_dev_eval.evaluate(X_dev, y_dev_hot)\n",
        "eval_loss, eval_accuracy = model_for_dev_eval.evaluate(X_eval, y_eval_hot)\n",
        "\n",
        "print(f\"Dev Loss: {dev_loss}, Dev Accuracy: {dev_accuracy}\")\n",
        "print(f\"Eval Loss: {eval_loss}, Eval Accuracy: {eval_accuracy}\")\n",
        "\n",
        "\n",
        "\n"
      ],
      "metadata": {
        "colab": {
          "base_uri": "https://localhost:8080/",
          "height": 651
        },
        "id": "7w9s8lKrwR36",
        "outputId": "493e5ab7-d4c1-4b6b-ef01-b5b0a1b978fd"
      },
      "execution_count": null,
      "outputs": [
        {
          "output_type": "error",
          "ename": "ValueError",
          "evalue": "ignored",
          "traceback": [
            "\u001b[0;31m---------------------------------------------------------------------------\u001b[0m",
            "\u001b[0;31mValueError\u001b[0m                                Traceback (most recent call last)",
            "\u001b[0;32m<ipython-input-17-ba5807c0fabe>\u001b[0m in \u001b[0;36m<cell line: 39>\u001b[0;34m()\u001b[0m\n\u001b[1;32m     37\u001b[0m \u001b[0;34m\u001b[0m\u001b[0m\n\u001b[1;32m     38\u001b[0m \u001b[0;31m# Evaluate on dev and eval datasets\u001b[0m\u001b[0;34m\u001b[0m\u001b[0;34m\u001b[0m\u001b[0m\n\u001b[0;32m---> 39\u001b[0;31m \u001b[0mdev_loss\u001b[0m\u001b[0;34m,\u001b[0m \u001b[0mdev_accuracy\u001b[0m \u001b[0;34m=\u001b[0m \u001b[0mmodel_for_dev_eval\u001b[0m\u001b[0;34m.\u001b[0m\u001b[0mevaluate\u001b[0m\u001b[0;34m(\u001b[0m\u001b[0mX_dev\u001b[0m\u001b[0;34m,\u001b[0m \u001b[0my_dev_hot\u001b[0m\u001b[0;34m)\u001b[0m\u001b[0;34m\u001b[0m\u001b[0;34m\u001b[0m\u001b[0m\n\u001b[0m\u001b[1;32m     40\u001b[0m \u001b[0meval_loss\u001b[0m\u001b[0;34m,\u001b[0m \u001b[0meval_accuracy\u001b[0m \u001b[0;34m=\u001b[0m \u001b[0mmodel_for_dev_eval\u001b[0m\u001b[0;34m.\u001b[0m\u001b[0mevaluate\u001b[0m\u001b[0;34m(\u001b[0m\u001b[0mX_eval\u001b[0m\u001b[0;34m,\u001b[0m \u001b[0my_eval_hot\u001b[0m\u001b[0;34m)\u001b[0m\u001b[0;34m\u001b[0m\u001b[0;34m\u001b[0m\u001b[0m\n\u001b[1;32m     41\u001b[0m \u001b[0;34m\u001b[0m\u001b[0m\n",
            "\u001b[0;32m/usr/local/lib/python3.10/dist-packages/keras/src/utils/traceback_utils.py\u001b[0m in \u001b[0;36merror_handler\u001b[0;34m(*args, **kwargs)\u001b[0m\n\u001b[1;32m     68\u001b[0m             \u001b[0;31m# To get the full stack trace, call:\u001b[0m\u001b[0;34m\u001b[0m\u001b[0;34m\u001b[0m\u001b[0m\n\u001b[1;32m     69\u001b[0m             \u001b[0;31m# `tf.debugging.disable_traceback_filtering()`\u001b[0m\u001b[0;34m\u001b[0m\u001b[0;34m\u001b[0m\u001b[0m\n\u001b[0;32m---> 70\u001b[0;31m             \u001b[0;32mraise\u001b[0m \u001b[0me\u001b[0m\u001b[0;34m.\u001b[0m\u001b[0mwith_traceback\u001b[0m\u001b[0;34m(\u001b[0m\u001b[0mfiltered_tb\u001b[0m\u001b[0;34m)\u001b[0m \u001b[0;32mfrom\u001b[0m \u001b[0;32mNone\u001b[0m\u001b[0;34m\u001b[0m\u001b[0;34m\u001b[0m\u001b[0m\n\u001b[0m\u001b[1;32m     71\u001b[0m         \u001b[0;32mfinally\u001b[0m\u001b[0;34m:\u001b[0m\u001b[0;34m\u001b[0m\u001b[0;34m\u001b[0m\u001b[0m\n\u001b[1;32m     72\u001b[0m             \u001b[0;32mdel\u001b[0m \u001b[0mfiltered_tb\u001b[0m\u001b[0;34m\u001b[0m\u001b[0;34m\u001b[0m\u001b[0m\n",
            "\u001b[0;32m/usr/local/lib/python3.10/dist-packages/keras/src/engine/training.py\u001b[0m in \u001b[0;36mtf__test_function\u001b[0;34m(iterator)\u001b[0m\n\u001b[1;32m     13\u001b[0m                 \u001b[0;32mtry\u001b[0m\u001b[0;34m:\u001b[0m\u001b[0;34m\u001b[0m\u001b[0;34m\u001b[0m\u001b[0m\n\u001b[1;32m     14\u001b[0m                     \u001b[0mdo_return\u001b[0m \u001b[0;34m=\u001b[0m \u001b[0;32mTrue\u001b[0m\u001b[0;34m\u001b[0m\u001b[0;34m\u001b[0m\u001b[0m\n\u001b[0;32m---> 15\u001b[0;31m                     \u001b[0mretval_\u001b[0m \u001b[0;34m=\u001b[0m \u001b[0mag__\u001b[0m\u001b[0;34m.\u001b[0m\u001b[0mconverted_call\u001b[0m\u001b[0;34m(\u001b[0m\u001b[0mag__\u001b[0m\u001b[0;34m.\u001b[0m\u001b[0mld\u001b[0m\u001b[0;34m(\u001b[0m\u001b[0mstep_function\u001b[0m\u001b[0;34m)\u001b[0m\u001b[0;34m,\u001b[0m \u001b[0;34m(\u001b[0m\u001b[0mag__\u001b[0m\u001b[0;34m.\u001b[0m\u001b[0mld\u001b[0m\u001b[0;34m(\u001b[0m\u001b[0mself\u001b[0m\u001b[0;34m)\u001b[0m\u001b[0;34m,\u001b[0m \u001b[0mag__\u001b[0m\u001b[0;34m.\u001b[0m\u001b[0mld\u001b[0m\u001b[0;34m(\u001b[0m\u001b[0miterator\u001b[0m\u001b[0;34m)\u001b[0m\u001b[0;34m)\u001b[0m\u001b[0;34m,\u001b[0m \u001b[0;32mNone\u001b[0m\u001b[0;34m,\u001b[0m \u001b[0mfscope\u001b[0m\u001b[0;34m)\u001b[0m\u001b[0;34m\u001b[0m\u001b[0;34m\u001b[0m\u001b[0m\n\u001b[0m\u001b[1;32m     16\u001b[0m                 \u001b[0;32mexcept\u001b[0m\u001b[0;34m:\u001b[0m\u001b[0;34m\u001b[0m\u001b[0;34m\u001b[0m\u001b[0m\n\u001b[1;32m     17\u001b[0m                     \u001b[0mdo_return\u001b[0m \u001b[0;34m=\u001b[0m \u001b[0;32mFalse\u001b[0m\u001b[0;34m\u001b[0m\u001b[0;34m\u001b[0m\u001b[0m\n",
            "\u001b[0;31mValueError\u001b[0m: in user code:\n\n    File \"/usr/local/lib/python3.10/dist-packages/keras/src/engine/training.py\", line 2066, in test_function  *\n        return step_function(self, iterator)\n    File \"/usr/local/lib/python3.10/dist-packages/keras/src/engine/training.py\", line 2049, in step_function  **\n        outputs = model.distribute_strategy.run(run_step, args=(data,))\n    File \"/usr/local/lib/python3.10/dist-packages/keras/src/engine/training.py\", line 2037, in run_step  **\n        outputs = model.test_step(data)\n    File \"/usr/local/lib/python3.10/dist-packages/keras/src/engine/training.py\", line 1917, in test_step\n        y_pred = self(x, training=False)\n    File \"/usr/local/lib/python3.10/dist-packages/keras/src/utils/traceback_utils.py\", line 70, in error_handler\n        raise e.with_traceback(filtered_tb) from None\n    File \"/usr/local/lib/python3.10/dist-packages/keras/src/engine/input_spec.py\", line 298, in assert_input_compatibility\n        raise ValueError(\n\n    ValueError: Input 0 of layer \"sequential_1\" is incompatible with the layer: expected shape=(None, 220, 2), found shape=(None, 2, 20, 11)\n"
          ]
        }
      ]
    },
    {
      "cell_type": "code",
      "source": [
        "from keras.models import Sequential\n",
        "from keras.layers import LSTM, Dense, Dropout\n",
        "\n",
        "# Define the LSTM model\n",
        "model = Sequential()\n",
        "model.add(LSTM(64, input_shape=(220, 2), return_sequences=True))\n",
        "model.add(LSTM(32, return_sequences=False))\n",
        "model.add(Dense(64, activation='relu'))\n",
        "model.add(Dropout(0.5))\n",
        "model.add(Dense(32, activation='softmax'))\n",
        "\n",
        "# Get the model summary\n",
        "model.summary()\n",
        "\n"
      ],
      "metadata": {
        "colab": {
          "base_uri": "https://localhost:8080/"
        },
        "id": "FWMkf0uzOBKq",
        "outputId": "5a2f2297-c222-462a-8ae8-f3d09ba1b145"
      },
      "execution_count": null,
      "outputs": [
        {
          "output_type": "stream",
          "name": "stdout",
          "text": [
            "Model: \"sequential_2\"\n",
            "_________________________________________________________________\n",
            " Layer (type)                Output Shape              Param #   \n",
            "=================================================================\n",
            " lstm_2 (LSTM)               (None, 220, 64)           17152     \n",
            "                                                                 \n",
            " lstm_3 (LSTM)               (None, 32)                12416     \n",
            "                                                                 \n",
            " dense_3 (Dense)             (None, 64)                2112      \n",
            "                                                                 \n",
            " dropout_1 (Dropout)         (None, 64)                0         \n",
            "                                                                 \n",
            " dense_4 (Dense)             (None, 32)                2080      \n",
            "                                                                 \n",
            "=================================================================\n",
            "Total params: 33760 (131.88 KB)\n",
            "Trainable params: 33760 (131.88 KB)\n",
            "Non-trainable params: 0 (0.00 Byte)\n",
            "_________________________________________________________________\n"
          ]
        }
      ]
    },
    {
      "cell_type": "code",
      "source": [
        "import matplotlib.pyplot as plt\n",
        "\n",
        "# Sample data for loss over epochs\n",
        "epochs = list(range(1, 51))  # Assuming 50 epochs\n",
        "training_loss = [0.8 - i*0.015 for i in range(50)]  # Simulated decreasing loss values\n",
        "\n",
        "# Plotting the graph\n",
        "plt.figure(figsize=(10, 6))\n",
        "plt.plot(epochs, training_loss, label='Training Loss', color='red')\n",
        "plt.xlabel('Epochs')\n",
        "plt.ylabel('Loss')\n",
        "plt.title('Training Loss Over Epochs')\n",
        "plt.legend()\n",
        "plt.grid(True)\n",
        "plt.show()\n"
      ],
      "metadata": {
        "colab": {
          "base_uri": "https://localhost:8080/",
          "height": 564
        },
        "id": "cdVmDnfCS7Uz",
        "outputId": "bfd95ef3-4f9d-4394-d6ac-046da767d1e0"
      },
      "execution_count": null,
      "outputs": [
        {
          "output_type": "display_data",
          "data": {
            "text/plain": [
              "<Figure size 1000x600 with 1 Axes>"
            ],
            "image/png": "[encoded data removed]"
          },
          "metadata": {}
        }
      ]
    },
    {
      "cell_type": "code",
      "source": [
        "# Define model architecture\n",
        "def create_lstm_model(input_shape, num_classes):\n",
        "    model = Sequential()\n",
        "    model.add(LSTM(64, input_shape=input_shape, return_sequences=True))\n",
        "    model.add(LSTM(32, return_sequences=False))\n",
        "    model.add(Dense(64, activation='relu'))\n",
        "    model.add(Dropout(0.5))\n",
        "    model.add(Dense(num_classes, activation='softmax'))\n",
        "    return model\n"
      ],
      "metadata": {
        "id": "ZBvFsTi2c4pw"
      },
      "execution_count": null,
      "outputs": []
    }
  ]
}